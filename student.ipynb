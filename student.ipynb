{
 "cells": [
  {
   "cell_type": "markdown",
   "metadata": {},
   "source": [
    "## Final Project Submission\n",
    "\n",
    "Please fill out:\n",
    "* Student name: Carlos Marin\n",
    "* Student pace: self paced / part time / full time: PART TIME\n",
    "* Scheduled project review date/time: 22 JAN 2022/ 7 Feb 2022\n",
    "* Instructor name: ABHINEET KULKARNI\n",
    "* Blog post URL: https://www.blogger.com/blog/posts/4076241086869822975?hl=en\n"
   ]
  },
  {
   "cell_type": "markdown",
   "metadata": {},
   "source": [
    "# Movie formula for success - Best Director, Actor, Producers\n",
    "The Purpose of this project is to provide reccomendations for directors, producers, actors, and actress provide the \n",
    "best average rating and the highest return on investment. "
   ]
  },
  {
   "cell_type": "markdown",
   "metadata": {},
   "source": [
    "## Importing important packages\n",
    "#### Making it easier to read file names"
   ]
  },
  {
   "cell_type": "code",
   "execution_count": 1,
   "metadata": {},
   "outputs": [],
   "source": [
    "\n",
    "\n",
    "#importing data using glob\n",
    "import os\n",
    "from glob import glob\n",
    "import pandas as pd\n",
    "\n",
    "csv_files = glob(\"./zippedData/*.csv.gz\")\n",
    "csv_files\n",
    "\n",
    "csv_files_dict = {}\n",
    "for filename in csv_files:\n",
    "    filename_cleaned = os.path.basename(filename).replace(\".csv\", \"\").replace(\".\", \"_\")  #cleaning the filenames\n",
    "    filename_df = pd.read_csv(filename, index_col=0)\n",
    "    csv_files_dict[filename_cleaned] = filename_df\n"
   ]
  },
  {
   "cell_type": "code",
   "execution_count": 2,
   "metadata": {},
   "outputs": [
    {
     "data": {
      "text/plain": [
       "dict_keys(['imdb_title_crew_gz', 'tmdb_movies_gz', 'imdb_title_akas_gz', 'imdb_title_ratings_gz', 'imdb_name_basics_gz', 'imdb_title_basics_gz', 'tn_movie_budgets_gz', 'bom_movie_gross_gz', 'imdb_title_principals_gz'])"
      ]
     },
     "execution_count": 2,
     "metadata": {},
     "output_type": "execute_result"
    }
   ],
   "source": [
    "csv_files_dict.keys()"
   ]
  },
  {
   "cell_type": "code",
   "execution_count": 3,
   "metadata": {},
   "outputs": [],
   "source": [
    "# uses t const\n",
    "movie_titles = csv_files_dict['imdb_title_basics_gz']"
   ]
  },
  {
   "cell_type": "code",
   "execution_count": 4,
   "metadata": {},
   "outputs": [],
   "source": [
    "# uses t const\n",
    "title_ratings = csv_files_dict['imdb_title_ratings_gz']"
   ]
  },
  {
   "cell_type": "code",
   "execution_count": 5,
   "metadata": {},
   "outputs": [],
   "source": [
    "#uses id, but can merge using movie\n",
    "budget = csv_files_dict['tn_movie_budgets_gz']"
   ]
  },
  {
   "cell_type": "code",
   "execution_count": 6,
   "metadata": {},
   "outputs": [],
   "source": [
    "#uses t const \n",
    "crew = csv_files_dict['imdb_title_crew_gz']"
   ]
  },
  {
   "cell_type": "code",
   "execution_count": 7,
   "metadata": {},
   "outputs": [],
   "source": [
    "#uses n const must merge with crewmid\n",
    "crewname = csv_files_dict['imdb_name_basics_gz']"
   ]
  },
  {
   "cell_type": "code",
   "execution_count": 8,
   "metadata": {},
   "outputs": [],
   "source": [
    "#uses n const to merge data & t const\n",
    "crewmid = csv_files_dict['imdb_title_principals_gz']"
   ]
  },
  {
   "cell_type": "markdown",
   "metadata": {},
   "source": [
    "### Merging of data sets\n",
    "In Order to get the main data set we will use, we have to combine all of the data sets into one large data set.\n",
    "This is done by combining based on similar columns. In This first columns we combine columns by tconst, and then by nconst. Because the merge function only allows us to merge two data sets a time we do \n",
    "\n",
    "First we combine data sets movie_titles, and title_ratings by 'tconst', to make titleratings dataset. We also combine crew dataset and crewmid data set by 'tconst' to make crew1 dataset. By combine titleratings and crew1 dataset we get movie data set. Then we comebine the new movie dataset and crewname dataset to get movie2 dataset."
   ]
  },
  {
   "cell_type": "code",
   "execution_count": 9,
   "metadata": {},
   "outputs": [],
   "source": [
    "titleratings = pd.merge(movie_titles, title_ratings, on = 'tconst')"
   ]
  },
  {
   "cell_type": "code",
   "execution_count": 10,
   "metadata": {},
   "outputs": [],
   "source": [
    "crew1 = pd.merge(crew,crewmid, on = 'tconst')"
   ]
  },
  {
   "cell_type": "code",
   "execution_count": 11,
   "metadata": {},
   "outputs": [],
   "source": [
    "movie = pd.merge(titleratings, crew1, on = 'tconst')"
   ]
  },
  {
   "cell_type": "code",
   "execution_count": 12,
   "metadata": {},
   "outputs": [],
   "source": [
    "movie2 = pd.merge(movie, crewname, on = 'nconst')"
   ]
  },
  {
   "cell_type": "markdown",
   "metadata": {},
   "source": [
    "### Dropping and renaming columns \n",
    "First we drop the unnecessary columns. Then we rename columns. lastly we merge the new data set movie3 and the final data set budget on the 'movie' column.\n",
    "Lastly, we use pd.explode on the genre column to help when filtering later on. \n",
    "A Preview of the dataset movie 5, the final data set."
   ]
  },
  {
   "cell_type": "code",
   "execution_count": 13,
   "metadata": {},
   "outputs": [],
   "source": [
    "movie3 = movie2.drop(columns=['directors', 'writers', 'ordering', 'job', 'characters', 'known_for_titles', \n",
    "                             'primary_title', 'start_year', 'runtime_minutes', 'numvotes', 'nconst'])"
   ]
  },
  {
   "cell_type": "code",
   "execution_count": 14,
   "metadata": {},
   "outputs": [],
   "source": [
    "movie3.rename(columns= {'original_title' : 'movie', 'averagerating': 'average_rating'} , inplace = True )"
   ]
  },
  {
   "cell_type": "code",
   "execution_count": 15,
   "metadata": {},
   "outputs": [],
   "source": [
    "movie4 = pd.merge(movie3, budget, on = 'movie')"
   ]
  },
  {
   "cell_type": "code",
   "execution_count": 16,
   "metadata": {},
   "outputs": [],
   "source": [
    "movie5 = movie4.explode('genres')"
   ]
  },
  {
   "cell_type": "code",
   "execution_count": 17,
   "metadata": {},
   "outputs": [
    {
     "data": {
      "text/html": [
       "<div>\n",
       "<style scoped>\n",
       "    .dataframe tbody tr th:only-of-type {\n",
       "        vertical-align: middle;\n",
       "    }\n",
       "\n",
       "    .dataframe tbody tr th {\n",
       "        vertical-align: top;\n",
       "    }\n",
       "\n",
       "    .dataframe thead th {\n",
       "        text-align: right;\n",
       "    }\n",
       "</style>\n",
       "<table border=\"1\" class=\"dataframe\">\n",
       "  <thead>\n",
       "    <tr style=\"text-align: right;\">\n",
       "      <th></th>\n",
       "      <th>movie</th>\n",
       "      <th>genres</th>\n",
       "      <th>average_rating</th>\n",
       "      <th>category</th>\n",
       "      <th>primary_name</th>\n",
       "      <th>birth_year</th>\n",
       "      <th>death_year</th>\n",
       "      <th>primary_profession</th>\n",
       "      <th>release_date</th>\n",
       "      <th>production_budget</th>\n",
       "      <th>domestic_gross</th>\n",
       "      <th>worldwide_gross</th>\n",
       "    </tr>\n",
       "  </thead>\n",
       "  <tbody>\n",
       "    <tr>\n",
       "      <th>0</th>\n",
       "      <td>The Last Airbender</td>\n",
       "      <td>Action,Adventure,Family</td>\n",
       "      <td>4.1</td>\n",
       "      <td>producer</td>\n",
       "      <td>Frank Marshall</td>\n",
       "      <td>1946.0</td>\n",
       "      <td>NaN</td>\n",
       "      <td>producer,miscellaneous,director</td>\n",
       "      <td>Jul 1, 2010</td>\n",
       "      <td>$150,000,000</td>\n",
       "      <td>$131,772,187</td>\n",
       "      <td>$319,713,881</td>\n",
       "    </tr>\n",
       "    <tr>\n",
       "      <th>1</th>\n",
       "      <td>The Last Airbender</td>\n",
       "      <td>Action,Adventure,Family</td>\n",
       "      <td>4.1</td>\n",
       "      <td>actor</td>\n",
       "      <td>Dev Patel</td>\n",
       "      <td>1990.0</td>\n",
       "      <td>NaN</td>\n",
       "      <td>actor,producer,director</td>\n",
       "      <td>Jul 1, 2010</td>\n",
       "      <td>$150,000,000</td>\n",
       "      <td>$131,772,187</td>\n",
       "      <td>$319,713,881</td>\n",
       "    </tr>\n",
       "    <tr>\n",
       "      <th>2</th>\n",
       "      <td>The Last Airbender</td>\n",
       "      <td>Action,Adventure,Family</td>\n",
       "      <td>4.1</td>\n",
       "      <td>editor</td>\n",
       "      <td>Conrad Buff IV</td>\n",
       "      <td>1948.0</td>\n",
       "      <td>NaN</td>\n",
       "      <td>editor,visual_effects,editorial_department</td>\n",
       "      <td>Jul 1, 2010</td>\n",
       "      <td>$150,000,000</td>\n",
       "      <td>$131,772,187</td>\n",
       "      <td>$319,713,881</td>\n",
       "    </tr>\n",
       "    <tr>\n",
       "      <th>3</th>\n",
       "      <td>The Last Airbender</td>\n",
       "      <td>Action,Adventure,Family</td>\n",
       "      <td>4.1</td>\n",
       "      <td>actor</td>\n",
       "      <td>Noah Ringer</td>\n",
       "      <td>1997.0</td>\n",
       "      <td>NaN</td>\n",
       "      <td>actor</td>\n",
       "      <td>Jul 1, 2010</td>\n",
       "      <td>$150,000,000</td>\n",
       "      <td>$131,772,187</td>\n",
       "      <td>$319,713,881</td>\n",
       "    </tr>\n",
       "    <tr>\n",
       "      <th>4</th>\n",
       "      <td>The Last Airbender</td>\n",
       "      <td>Action,Adventure,Family</td>\n",
       "      <td>4.1</td>\n",
       "      <td>actress</td>\n",
       "      <td>Nicola Peltz</td>\n",
       "      <td>1995.0</td>\n",
       "      <td>NaN</td>\n",
       "      <td>actress</td>\n",
       "      <td>Jul 1, 2010</td>\n",
       "      <td>$150,000,000</td>\n",
       "      <td>$131,772,187</td>\n",
       "      <td>$319,713,881</td>\n",
       "    </tr>\n",
       "    <tr>\n",
       "      <th>...</th>\n",
       "      <td>...</td>\n",
       "      <td>...</td>\n",
       "      <td>...</td>\n",
       "      <td>...</td>\n",
       "      <td>...</td>\n",
       "      <td>...</td>\n",
       "      <td>...</td>\n",
       "      <td>...</td>\n",
       "      <td>...</td>\n",
       "      <td>...</td>\n",
       "      <td>...</td>\n",
       "      <td>...</td>\n",
       "    </tr>\n",
       "    <tr>\n",
       "      <th>24978</th>\n",
       "      <td>Never Again</td>\n",
       "      <td>Drama</td>\n",
       "      <td>5.7</td>\n",
       "      <td>actress</td>\n",
       "      <td>Kristen Carletta</td>\n",
       "      <td>NaN</td>\n",
       "      <td>NaN</td>\n",
       "      <td>actress</td>\n",
       "      <td>Jul 12, 2002</td>\n",
       "      <td>$500,000</td>\n",
       "      <td>$307,631</td>\n",
       "      <td>$308,793</td>\n",
       "    </tr>\n",
       "    <tr>\n",
       "      <th>24979</th>\n",
       "      <td>Never Again</td>\n",
       "      <td>Drama</td>\n",
       "      <td>5.7</td>\n",
       "      <td>producer</td>\n",
       "      <td>Katie Watling</td>\n",
       "      <td>NaN</td>\n",
       "      <td>NaN</td>\n",
       "      <td>actress,producer</td>\n",
       "      <td>Jul 12, 2002</td>\n",
       "      <td>$500,000</td>\n",
       "      <td>$307,631</td>\n",
       "      <td>$308,793</td>\n",
       "    </tr>\n",
       "    <tr>\n",
       "      <th>24980</th>\n",
       "      <td>Never Again</td>\n",
       "      <td>Drama</td>\n",
       "      <td>5.7</td>\n",
       "      <td>cinematographer</td>\n",
       "      <td>Michael Wooley</td>\n",
       "      <td>NaN</td>\n",
       "      <td>NaN</td>\n",
       "      <td>cinematographer</td>\n",
       "      <td>Jul 12, 2002</td>\n",
       "      <td>$500,000</td>\n",
       "      <td>$307,631</td>\n",
       "      <td>$308,793</td>\n",
       "    </tr>\n",
       "    <tr>\n",
       "      <th>24981</th>\n",
       "      <td>Heroes</td>\n",
       "      <td>Documentary</td>\n",
       "      <td>7.3</td>\n",
       "      <td>director</td>\n",
       "      <td>Köken Ergun</td>\n",
       "      <td>1976.0</td>\n",
       "      <td>NaN</td>\n",
       "      <td>director,producer,editor</td>\n",
       "      <td>Oct 24, 2008</td>\n",
       "      <td>$400,000</td>\n",
       "      <td>$655,538</td>\n",
       "      <td>$655,538</td>\n",
       "    </tr>\n",
       "    <tr>\n",
       "      <th>24982</th>\n",
       "      <td>Heroes</td>\n",
       "      <td>Documentary</td>\n",
       "      <td>7.3</td>\n",
       "      <td>cinematographer</td>\n",
       "      <td>Batu Tezyüksel</td>\n",
       "      <td>NaN</td>\n",
       "      <td>NaN</td>\n",
       "      <td>cinematographer,camera_department</td>\n",
       "      <td>Oct 24, 2008</td>\n",
       "      <td>$400,000</td>\n",
       "      <td>$655,538</td>\n",
       "      <td>$655,538</td>\n",
       "    </tr>\n",
       "  </tbody>\n",
       "</table>\n",
       "<p>24983 rows × 12 columns</p>\n",
       "</div>"
      ],
      "text/plain": [
       "                    movie                   genres  average_rating  \\\n",
       "0      The Last Airbender  Action,Adventure,Family             4.1   \n",
       "1      The Last Airbender  Action,Adventure,Family             4.1   \n",
       "2      The Last Airbender  Action,Adventure,Family             4.1   \n",
       "3      The Last Airbender  Action,Adventure,Family             4.1   \n",
       "4      The Last Airbender  Action,Adventure,Family             4.1   \n",
       "...                   ...                      ...             ...   \n",
       "24978         Never Again                    Drama             5.7   \n",
       "24979         Never Again                    Drama             5.7   \n",
       "24980         Never Again                    Drama             5.7   \n",
       "24981              Heroes              Documentary             7.3   \n",
       "24982              Heroes              Documentary             7.3   \n",
       "\n",
       "              category      primary_name  birth_year  death_year  \\\n",
       "0             producer    Frank Marshall      1946.0         NaN   \n",
       "1                actor         Dev Patel      1990.0         NaN   \n",
       "2               editor    Conrad Buff IV      1948.0         NaN   \n",
       "3                actor       Noah Ringer      1997.0         NaN   \n",
       "4              actress      Nicola Peltz      1995.0         NaN   \n",
       "...                ...               ...         ...         ...   \n",
       "24978          actress  Kristen Carletta         NaN         NaN   \n",
       "24979         producer     Katie Watling         NaN         NaN   \n",
       "24980  cinematographer    Michael Wooley         NaN         NaN   \n",
       "24981         director       Köken Ergun      1976.0         NaN   \n",
       "24982  cinematographer    Batu Tezyüksel         NaN         NaN   \n",
       "\n",
       "                               primary_profession  release_date  \\\n",
       "0                 producer,miscellaneous,director   Jul 1, 2010   \n",
       "1                         actor,producer,director   Jul 1, 2010   \n",
       "2      editor,visual_effects,editorial_department   Jul 1, 2010   \n",
       "3                                           actor   Jul 1, 2010   \n",
       "4                                         actress   Jul 1, 2010   \n",
       "...                                           ...           ...   \n",
       "24978                                     actress  Jul 12, 2002   \n",
       "24979                            actress,producer  Jul 12, 2002   \n",
       "24980                             cinematographer  Jul 12, 2002   \n",
       "24981                    director,producer,editor  Oct 24, 2008   \n",
       "24982           cinematographer,camera_department  Oct 24, 2008   \n",
       "\n",
       "      production_budget domestic_gross worldwide_gross  \n",
       "0          $150,000,000   $131,772,187    $319,713,881  \n",
       "1          $150,000,000   $131,772,187    $319,713,881  \n",
       "2          $150,000,000   $131,772,187    $319,713,881  \n",
       "3          $150,000,000   $131,772,187    $319,713,881  \n",
       "4          $150,000,000   $131,772,187    $319,713,881  \n",
       "...                 ...            ...             ...  \n",
       "24978          $500,000       $307,631        $308,793  \n",
       "24979          $500,000       $307,631        $308,793  \n",
       "24980          $500,000       $307,631        $308,793  \n",
       "24981          $400,000       $655,538        $655,538  \n",
       "24982          $400,000       $655,538        $655,538  \n",
       "\n",
       "[24983 rows x 12 columns]"
      ]
     },
     "execution_count": 17,
     "metadata": {},
     "output_type": "execute_result"
    }
   ],
   "source": [
    "movie5"
   ]
  },
  {
   "cell_type": "markdown",
   "metadata": {},
   "source": [
    "### UH OH we have dead inviduals in our data. \n",
    "Because we need individuals who are currently active in the movie industry, we need to remove the individuals \n",
    "who have passed away in our data set. I use the '.fillna' function and the set the data for those alive to the year 9999 (technically any year is possible as long as it is not our current year). Once we that has been set of the death year, we filter it out and set it to the future, I put 2025 as an example. That way anybody not alive in 2025 will be filtered out. Now that those have been filtered out, the death_year shows everybody as death_year as 9999. In doing so, I then filter out the death_year and birth_year as those are no longer relevant. The final dataset is labeled as movie6"
   ]
  },
  {
   "cell_type": "code",
   "execution_count": 18,
   "metadata": {},
   "outputs": [],
   "source": [
    "#fill non null values for dead... they are still alive\n",
    "movie5['death_year'].fillna(9999, inplace = True)"
   ]
  },
  {
   "cell_type": "code",
   "execution_count": 19,
   "metadata": {},
   "outputs": [
    {
     "data": {
      "text/html": [
       "<div>\n",
       "<style scoped>\n",
       "    .dataframe tbody tr th:only-of-type {\n",
       "        vertical-align: middle;\n",
       "    }\n",
       "\n",
       "    .dataframe tbody tr th {\n",
       "        vertical-align: top;\n",
       "    }\n",
       "\n",
       "    .dataframe thead th {\n",
       "        text-align: right;\n",
       "    }\n",
       "</style>\n",
       "<table border=\"1\" class=\"dataframe\">\n",
       "  <thead>\n",
       "    <tr style=\"text-align: right;\">\n",
       "      <th></th>\n",
       "      <th>movie</th>\n",
       "      <th>genres</th>\n",
       "      <th>average_rating</th>\n",
       "      <th>category</th>\n",
       "      <th>primary_name</th>\n",
       "      <th>birth_year</th>\n",
       "      <th>death_year</th>\n",
       "      <th>primary_profession</th>\n",
       "      <th>release_date</th>\n",
       "      <th>production_budget</th>\n",
       "      <th>domestic_gross</th>\n",
       "      <th>worldwide_gross</th>\n",
       "    </tr>\n",
       "  </thead>\n",
       "  <tbody>\n",
       "    <tr>\n",
       "      <th>0</th>\n",
       "      <td>The Last Airbender</td>\n",
       "      <td>Action,Adventure,Family</td>\n",
       "      <td>4.1</td>\n",
       "      <td>producer</td>\n",
       "      <td>Frank Marshall</td>\n",
       "      <td>1946.0</td>\n",
       "      <td>9999.0</td>\n",
       "      <td>producer,miscellaneous,director</td>\n",
       "      <td>Jul 1, 2010</td>\n",
       "      <td>$150,000,000</td>\n",
       "      <td>$131,772,187</td>\n",
       "      <td>$319,713,881</td>\n",
       "    </tr>\n",
       "    <tr>\n",
       "      <th>1</th>\n",
       "      <td>The Last Airbender</td>\n",
       "      <td>Action,Adventure,Family</td>\n",
       "      <td>4.1</td>\n",
       "      <td>actor</td>\n",
       "      <td>Dev Patel</td>\n",
       "      <td>1990.0</td>\n",
       "      <td>9999.0</td>\n",
       "      <td>actor,producer,director</td>\n",
       "      <td>Jul 1, 2010</td>\n",
       "      <td>$150,000,000</td>\n",
       "      <td>$131,772,187</td>\n",
       "      <td>$319,713,881</td>\n",
       "    </tr>\n",
       "    <tr>\n",
       "      <th>2</th>\n",
       "      <td>The Last Airbender</td>\n",
       "      <td>Action,Adventure,Family</td>\n",
       "      <td>4.1</td>\n",
       "      <td>editor</td>\n",
       "      <td>Conrad Buff IV</td>\n",
       "      <td>1948.0</td>\n",
       "      <td>9999.0</td>\n",
       "      <td>editor,visual_effects,editorial_department</td>\n",
       "      <td>Jul 1, 2010</td>\n",
       "      <td>$150,000,000</td>\n",
       "      <td>$131,772,187</td>\n",
       "      <td>$319,713,881</td>\n",
       "    </tr>\n",
       "    <tr>\n",
       "      <th>3</th>\n",
       "      <td>The Last Airbender</td>\n",
       "      <td>Action,Adventure,Family</td>\n",
       "      <td>4.1</td>\n",
       "      <td>actor</td>\n",
       "      <td>Noah Ringer</td>\n",
       "      <td>1997.0</td>\n",
       "      <td>9999.0</td>\n",
       "      <td>actor</td>\n",
       "      <td>Jul 1, 2010</td>\n",
       "      <td>$150,000,000</td>\n",
       "      <td>$131,772,187</td>\n",
       "      <td>$319,713,881</td>\n",
       "    </tr>\n",
       "    <tr>\n",
       "      <th>4</th>\n",
       "      <td>The Last Airbender</td>\n",
       "      <td>Action,Adventure,Family</td>\n",
       "      <td>4.1</td>\n",
       "      <td>actress</td>\n",
       "      <td>Nicola Peltz</td>\n",
       "      <td>1995.0</td>\n",
       "      <td>9999.0</td>\n",
       "      <td>actress</td>\n",
       "      <td>Jul 1, 2010</td>\n",
       "      <td>$150,000,000</td>\n",
       "      <td>$131,772,187</td>\n",
       "      <td>$319,713,881</td>\n",
       "    </tr>\n",
       "    <tr>\n",
       "      <th>...</th>\n",
       "      <td>...</td>\n",
       "      <td>...</td>\n",
       "      <td>...</td>\n",
       "      <td>...</td>\n",
       "      <td>...</td>\n",
       "      <td>...</td>\n",
       "      <td>...</td>\n",
       "      <td>...</td>\n",
       "      <td>...</td>\n",
       "      <td>...</td>\n",
       "      <td>...</td>\n",
       "      <td>...</td>\n",
       "    </tr>\n",
       "    <tr>\n",
       "      <th>24978</th>\n",
       "      <td>Never Again</td>\n",
       "      <td>Drama</td>\n",
       "      <td>5.7</td>\n",
       "      <td>actress</td>\n",
       "      <td>Kristen Carletta</td>\n",
       "      <td>NaN</td>\n",
       "      <td>9999.0</td>\n",
       "      <td>actress</td>\n",
       "      <td>Jul 12, 2002</td>\n",
       "      <td>$500,000</td>\n",
       "      <td>$307,631</td>\n",
       "      <td>$308,793</td>\n",
       "    </tr>\n",
       "    <tr>\n",
       "      <th>24979</th>\n",
       "      <td>Never Again</td>\n",
       "      <td>Drama</td>\n",
       "      <td>5.7</td>\n",
       "      <td>producer</td>\n",
       "      <td>Katie Watling</td>\n",
       "      <td>NaN</td>\n",
       "      <td>9999.0</td>\n",
       "      <td>actress,producer</td>\n",
       "      <td>Jul 12, 2002</td>\n",
       "      <td>$500,000</td>\n",
       "      <td>$307,631</td>\n",
       "      <td>$308,793</td>\n",
       "    </tr>\n",
       "    <tr>\n",
       "      <th>24980</th>\n",
       "      <td>Never Again</td>\n",
       "      <td>Drama</td>\n",
       "      <td>5.7</td>\n",
       "      <td>cinematographer</td>\n",
       "      <td>Michael Wooley</td>\n",
       "      <td>NaN</td>\n",
       "      <td>9999.0</td>\n",
       "      <td>cinematographer</td>\n",
       "      <td>Jul 12, 2002</td>\n",
       "      <td>$500,000</td>\n",
       "      <td>$307,631</td>\n",
       "      <td>$308,793</td>\n",
       "    </tr>\n",
       "    <tr>\n",
       "      <th>24981</th>\n",
       "      <td>Heroes</td>\n",
       "      <td>Documentary</td>\n",
       "      <td>7.3</td>\n",
       "      <td>director</td>\n",
       "      <td>Köken Ergun</td>\n",
       "      <td>1976.0</td>\n",
       "      <td>9999.0</td>\n",
       "      <td>director,producer,editor</td>\n",
       "      <td>Oct 24, 2008</td>\n",
       "      <td>$400,000</td>\n",
       "      <td>$655,538</td>\n",
       "      <td>$655,538</td>\n",
       "    </tr>\n",
       "    <tr>\n",
       "      <th>24982</th>\n",
       "      <td>Heroes</td>\n",
       "      <td>Documentary</td>\n",
       "      <td>7.3</td>\n",
       "      <td>cinematographer</td>\n",
       "      <td>Batu Tezyüksel</td>\n",
       "      <td>NaN</td>\n",
       "      <td>9999.0</td>\n",
       "      <td>cinematographer,camera_department</td>\n",
       "      <td>Oct 24, 2008</td>\n",
       "      <td>$400,000</td>\n",
       "      <td>$655,538</td>\n",
       "      <td>$655,538</td>\n",
       "    </tr>\n",
       "  </tbody>\n",
       "</table>\n",
       "<p>24463 rows × 12 columns</p>\n",
       "</div>"
      ],
      "text/plain": [
       "                    movie                   genres  average_rating  \\\n",
       "0      The Last Airbender  Action,Adventure,Family             4.1   \n",
       "1      The Last Airbender  Action,Adventure,Family             4.1   \n",
       "2      The Last Airbender  Action,Adventure,Family             4.1   \n",
       "3      The Last Airbender  Action,Adventure,Family             4.1   \n",
       "4      The Last Airbender  Action,Adventure,Family             4.1   \n",
       "...                   ...                      ...             ...   \n",
       "24978         Never Again                    Drama             5.7   \n",
       "24979         Never Again                    Drama             5.7   \n",
       "24980         Never Again                    Drama             5.7   \n",
       "24981              Heroes              Documentary             7.3   \n",
       "24982              Heroes              Documentary             7.3   \n",
       "\n",
       "              category      primary_name  birth_year  death_year  \\\n",
       "0             producer    Frank Marshall      1946.0      9999.0   \n",
       "1                actor         Dev Patel      1990.0      9999.0   \n",
       "2               editor    Conrad Buff IV      1948.0      9999.0   \n",
       "3                actor       Noah Ringer      1997.0      9999.0   \n",
       "4              actress      Nicola Peltz      1995.0      9999.0   \n",
       "...                ...               ...         ...         ...   \n",
       "24978          actress  Kristen Carletta         NaN      9999.0   \n",
       "24979         producer     Katie Watling         NaN      9999.0   \n",
       "24980  cinematographer    Michael Wooley         NaN      9999.0   \n",
       "24981         director       Köken Ergun      1976.0      9999.0   \n",
       "24982  cinematographer    Batu Tezyüksel         NaN      9999.0   \n",
       "\n",
       "                               primary_profession  release_date  \\\n",
       "0                 producer,miscellaneous,director   Jul 1, 2010   \n",
       "1                         actor,producer,director   Jul 1, 2010   \n",
       "2      editor,visual_effects,editorial_department   Jul 1, 2010   \n",
       "3                                           actor   Jul 1, 2010   \n",
       "4                                         actress   Jul 1, 2010   \n",
       "...                                           ...           ...   \n",
       "24978                                     actress  Jul 12, 2002   \n",
       "24979                            actress,producer  Jul 12, 2002   \n",
       "24980                             cinematographer  Jul 12, 2002   \n",
       "24981                    director,producer,editor  Oct 24, 2008   \n",
       "24982           cinematographer,camera_department  Oct 24, 2008   \n",
       "\n",
       "      production_budget domestic_gross worldwide_gross  \n",
       "0          $150,000,000   $131,772,187    $319,713,881  \n",
       "1          $150,000,000   $131,772,187    $319,713,881  \n",
       "2          $150,000,000   $131,772,187    $319,713,881  \n",
       "3          $150,000,000   $131,772,187    $319,713,881  \n",
       "4          $150,000,000   $131,772,187    $319,713,881  \n",
       "...                 ...            ...             ...  \n",
       "24978          $500,000       $307,631        $308,793  \n",
       "24979          $500,000       $307,631        $308,793  \n",
       "24980          $500,000       $307,631        $308,793  \n",
       "24981          $400,000       $655,538        $655,538  \n",
       "24982          $400,000       $655,538        $655,538  \n",
       "\n",
       "[24463 rows x 12 columns]"
      ]
     },
     "execution_count": 19,
     "metadata": {},
     "output_type": "execute_result"
    }
   ],
   "source": [
    "#Filter out those who have passed away\n",
    "movie5[movie5['death_year'] >2025]"
   ]
  },
  {
   "cell_type": "code",
   "execution_count": 20,
   "metadata": {},
   "outputs": [],
   "source": [
    "#filter out those with missing birth_year, can not guarantee they are dead nor alive.\n",
    "movie5.dropna(subset=['birth_year'], inplace = True)"
   ]
  },
  {
   "cell_type": "code",
   "execution_count": 21,
   "metadata": {},
   "outputs": [],
   "source": [
    "#drop birth year and death year as they are now irrelevant\n",
    "movie6 = movie5.drop(columns=['birth_year','death_year'])"
   ]
  },
  {
   "cell_type": "code",
   "execution_count": 22,
   "metadata": {},
   "outputs": [
    {
     "data": {
      "text/html": [
       "<div>\n",
       "<style scoped>\n",
       "    .dataframe tbody tr th:only-of-type {\n",
       "        vertical-align: middle;\n",
       "    }\n",
       "\n",
       "    .dataframe tbody tr th {\n",
       "        vertical-align: top;\n",
       "    }\n",
       "\n",
       "    .dataframe thead th {\n",
       "        text-align: right;\n",
       "    }\n",
       "</style>\n",
       "<table border=\"1\" class=\"dataframe\">\n",
       "  <thead>\n",
       "    <tr style=\"text-align: right;\">\n",
       "      <th></th>\n",
       "      <th>movie</th>\n",
       "      <th>genres</th>\n",
       "      <th>average_rating</th>\n",
       "      <th>category</th>\n",
       "      <th>primary_name</th>\n",
       "      <th>primary_profession</th>\n",
       "      <th>release_date</th>\n",
       "      <th>production_budget</th>\n",
       "      <th>domestic_gross</th>\n",
       "      <th>worldwide_gross</th>\n",
       "    </tr>\n",
       "  </thead>\n",
       "  <tbody>\n",
       "    <tr>\n",
       "      <th>0</th>\n",
       "      <td>The Last Airbender</td>\n",
       "      <td>Action,Adventure,Family</td>\n",
       "      <td>4.1</td>\n",
       "      <td>producer</td>\n",
       "      <td>Frank Marshall</td>\n",
       "      <td>producer,miscellaneous,director</td>\n",
       "      <td>Jul 1, 2010</td>\n",
       "      <td>$150,000,000</td>\n",
       "      <td>$131,772,187</td>\n",
       "      <td>$319,713,881</td>\n",
       "    </tr>\n",
       "    <tr>\n",
       "      <th>1</th>\n",
       "      <td>The Last Airbender</td>\n",
       "      <td>Action,Adventure,Family</td>\n",
       "      <td>4.1</td>\n",
       "      <td>actor</td>\n",
       "      <td>Dev Patel</td>\n",
       "      <td>actor,producer,director</td>\n",
       "      <td>Jul 1, 2010</td>\n",
       "      <td>$150,000,000</td>\n",
       "      <td>$131,772,187</td>\n",
       "      <td>$319,713,881</td>\n",
       "    </tr>\n",
       "    <tr>\n",
       "      <th>2</th>\n",
       "      <td>The Last Airbender</td>\n",
       "      <td>Action,Adventure,Family</td>\n",
       "      <td>4.1</td>\n",
       "      <td>editor</td>\n",
       "      <td>Conrad Buff IV</td>\n",
       "      <td>editor,visual_effects,editorial_department</td>\n",
       "      <td>Jul 1, 2010</td>\n",
       "      <td>$150,000,000</td>\n",
       "      <td>$131,772,187</td>\n",
       "      <td>$319,713,881</td>\n",
       "    </tr>\n",
       "    <tr>\n",
       "      <th>3</th>\n",
       "      <td>The Last Airbender</td>\n",
       "      <td>Action,Adventure,Family</td>\n",
       "      <td>4.1</td>\n",
       "      <td>actor</td>\n",
       "      <td>Noah Ringer</td>\n",
       "      <td>actor</td>\n",
       "      <td>Jul 1, 2010</td>\n",
       "      <td>$150,000,000</td>\n",
       "      <td>$131,772,187</td>\n",
       "      <td>$319,713,881</td>\n",
       "    </tr>\n",
       "    <tr>\n",
       "      <th>4</th>\n",
       "      <td>The Last Airbender</td>\n",
       "      <td>Action,Adventure,Family</td>\n",
       "      <td>4.1</td>\n",
       "      <td>actress</td>\n",
       "      <td>Nicola Peltz</td>\n",
       "      <td>actress</td>\n",
       "      <td>Jul 1, 2010</td>\n",
       "      <td>$150,000,000</td>\n",
       "      <td>$131,772,187</td>\n",
       "      <td>$319,713,881</td>\n",
       "    </tr>\n",
       "    <tr>\n",
       "      <th>...</th>\n",
       "      <td>...</td>\n",
       "      <td>...</td>\n",
       "      <td>...</td>\n",
       "      <td>...</td>\n",
       "      <td>...</td>\n",
       "      <td>...</td>\n",
       "      <td>...</td>\n",
       "      <td>...</td>\n",
       "      <td>...</td>\n",
       "      <td>...</td>\n",
       "    </tr>\n",
       "    <tr>\n",
       "      <th>24933</th>\n",
       "      <td>The Art of War</td>\n",
       "      <td>War</td>\n",
       "      <td>2.8</td>\n",
       "      <td>actor</td>\n",
       "      <td>Matthew Starks</td>\n",
       "      <td>actor</td>\n",
       "      <td>Aug 25, 2000</td>\n",
       "      <td>$40,000,000</td>\n",
       "      <td>$30,199,105</td>\n",
       "      <td>$30,199,105</td>\n",
       "    </tr>\n",
       "    <tr>\n",
       "      <th>24934</th>\n",
       "      <td>Nomad</td>\n",
       "      <td>Drama</td>\n",
       "      <td>3.1</td>\n",
       "      <td>actor</td>\n",
       "      <td>Alex Alessi</td>\n",
       "      <td>actor,writer,editor</td>\n",
       "      <td>Mar 16, 2007</td>\n",
       "      <td>$40,000,000</td>\n",
       "      <td>$79,123</td>\n",
       "      <td>$79,123</td>\n",
       "    </tr>\n",
       "    <tr>\n",
       "      <th>24947</th>\n",
       "      <td>Nothing</td>\n",
       "      <td>Drama</td>\n",
       "      <td>7.4</td>\n",
       "      <td>director</td>\n",
       "      <td>Marco Romano</td>\n",
       "      <td>director,writer,producer</td>\n",
       "      <td>Dec 31, 2003</td>\n",
       "      <td>$4,000,000</td>\n",
       "      <td>$0</td>\n",
       "      <td>$63,180</td>\n",
       "    </tr>\n",
       "    <tr>\n",
       "      <th>24949</th>\n",
       "      <td>Molly</td>\n",
       "      <td>Action,Sci-Fi</td>\n",
       "      <td>4.6</td>\n",
       "      <td>actress</td>\n",
       "      <td>Julia Batelaan</td>\n",
       "      <td>actress</td>\n",
       "      <td>Oct 22, 1999</td>\n",
       "      <td>$21,000,000</td>\n",
       "      <td>$17,396</td>\n",
       "      <td>$17,396</td>\n",
       "    </tr>\n",
       "    <tr>\n",
       "      <th>24981</th>\n",
       "      <td>Heroes</td>\n",
       "      <td>Documentary</td>\n",
       "      <td>7.3</td>\n",
       "      <td>director</td>\n",
       "      <td>Köken Ergun</td>\n",
       "      <td>director,producer,editor</td>\n",
       "      <td>Oct 24, 2008</td>\n",
       "      <td>$400,000</td>\n",
       "      <td>$655,538</td>\n",
       "      <td>$655,538</td>\n",
       "    </tr>\n",
       "  </tbody>\n",
       "</table>\n",
       "<p>13108 rows × 10 columns</p>\n",
       "</div>"
      ],
      "text/plain": [
       "                    movie                   genres  average_rating  category  \\\n",
       "0      The Last Airbender  Action,Adventure,Family             4.1  producer   \n",
       "1      The Last Airbender  Action,Adventure,Family             4.1     actor   \n",
       "2      The Last Airbender  Action,Adventure,Family             4.1    editor   \n",
       "3      The Last Airbender  Action,Adventure,Family             4.1     actor   \n",
       "4      The Last Airbender  Action,Adventure,Family             4.1   actress   \n",
       "...                   ...                      ...             ...       ...   \n",
       "24933      The Art of War                      War             2.8     actor   \n",
       "24934               Nomad                    Drama             3.1     actor   \n",
       "24947             Nothing                    Drama             7.4  director   \n",
       "24949               Molly            Action,Sci-Fi             4.6   actress   \n",
       "24981              Heroes              Documentary             7.3  director   \n",
       "\n",
       "         primary_name                          primary_profession  \\\n",
       "0      Frank Marshall             producer,miscellaneous,director   \n",
       "1           Dev Patel                     actor,producer,director   \n",
       "2      Conrad Buff IV  editor,visual_effects,editorial_department   \n",
       "3         Noah Ringer                                       actor   \n",
       "4        Nicola Peltz                                     actress   \n",
       "...               ...                                         ...   \n",
       "24933  Matthew Starks                                       actor   \n",
       "24934     Alex Alessi                         actor,writer,editor   \n",
       "24947    Marco Romano                    director,writer,producer   \n",
       "24949  Julia Batelaan                                     actress   \n",
       "24981     Köken Ergun                    director,producer,editor   \n",
       "\n",
       "       release_date production_budget domestic_gross worldwide_gross  \n",
       "0       Jul 1, 2010      $150,000,000   $131,772,187    $319,713,881  \n",
       "1       Jul 1, 2010      $150,000,000   $131,772,187    $319,713,881  \n",
       "2       Jul 1, 2010      $150,000,000   $131,772,187    $319,713,881  \n",
       "3       Jul 1, 2010      $150,000,000   $131,772,187    $319,713,881  \n",
       "4       Jul 1, 2010      $150,000,000   $131,772,187    $319,713,881  \n",
       "...             ...               ...            ...             ...  \n",
       "24933  Aug 25, 2000       $40,000,000    $30,199,105     $30,199,105  \n",
       "24934  Mar 16, 2007       $40,000,000        $79,123         $79,123  \n",
       "24947  Dec 31, 2003        $4,000,000             $0         $63,180  \n",
       "24949  Oct 22, 1999       $21,000,000        $17,396         $17,396  \n",
       "24981  Oct 24, 2008          $400,000       $655,538        $655,538  \n",
       "\n",
       "[13108 rows x 10 columns]"
      ]
     },
     "execution_count": 22,
     "metadata": {},
     "output_type": "execute_result"
    }
   ],
   "source": [
    "movie6"
   ]
  },
  {
   "cell_type": "markdown",
   "metadata": {},
   "source": [
    "### Converting the money to integers and ROI\n",
    "The Python system, does not read money. Therefore our first lines of code convert the numbers to integers. for the production_budget, domestic_gross, and worldwide_gross columns. Then we create a new column which returns Return on Investment percentage named ROI_Percentage. This column is calculates the return on investment based on this formula      \n",
    "#### ROI % =  (Retuns/Investment) * 100  \n",
    "#### ROI % = (worldwide_gross/ Production_budget) * 100\n",
    "\n",
    "The ROI Percentage will provide a number a percentage. if the percentage is less than 100 then there is loss , if the number is greater than 100 than there is profit. Thus we filter out those films that made profit by filtering for ROI Percentage greater than 100. "
   ]
  },
  {
   "cell_type": "code",
   "execution_count": 23,
   "metadata": {},
   "outputs": [],
   "source": [
    "movie6[\"production_budget\"] = movie6[\"production_budget\"].replace('[\\$\\,\\.]',\"\",regex=True).astype(int)"
   ]
  },
  {
   "cell_type": "code",
   "execution_count": 24,
   "metadata": {},
   "outputs": [],
   "source": [
    "movie6[\"domestic_gross\"] = movie6[\"domestic_gross\"].replace('[\\$\\,\\.]',\"\",regex=True).astype(int)"
   ]
  },
  {
   "cell_type": "code",
   "execution_count": 25,
   "metadata": {},
   "outputs": [],
   "source": [
    "movie6[\"worldwide_gross\"] = movie6[\"worldwide_gross\"].replace('[\\$\\,\\.]',\"\",regex=True).astype(int)"
   ]
  },
  {
   "cell_type": "code",
   "execution_count": 26,
   "metadata": {},
   "outputs": [],
   "source": [
    "#ROI Forumula  \n",
    "# ROI % =  (Retuns/Investment) * 100  \n",
    "# ROI % = (worldwide_gross/ Production_budget) * 100\n",
    "movie6[\"ROI_Percentage\"] = (movie6[\"worldwide_gross\"]/movie6[\"production_budget\"])*100"
   ]
  },
  {
   "cell_type": "code",
   "execution_count": 27,
   "metadata": {},
   "outputs": [],
   "source": [
    "#Removes films and associated crew that did not break even in ROI Percentage\n",
    "movie7 = movie6[movie6['ROI_Percentage'] >100]"
   ]
  },
  {
   "cell_type": "code",
   "execution_count": 28,
   "metadata": {},
   "outputs": [
    {
     "data": {
      "text/html": [
       "<div>\n",
       "<style scoped>\n",
       "    .dataframe tbody tr th:only-of-type {\n",
       "        vertical-align: middle;\n",
       "    }\n",
       "\n",
       "    .dataframe tbody tr th {\n",
       "        vertical-align: top;\n",
       "    }\n",
       "\n",
       "    .dataframe thead th {\n",
       "        text-align: right;\n",
       "    }\n",
       "</style>\n",
       "<table border=\"1\" class=\"dataframe\">\n",
       "  <thead>\n",
       "    <tr style=\"text-align: right;\">\n",
       "      <th></th>\n",
       "      <th>movie</th>\n",
       "      <th>genres</th>\n",
       "      <th>average_rating</th>\n",
       "      <th>category</th>\n",
       "      <th>primary_name</th>\n",
       "      <th>primary_profession</th>\n",
       "      <th>release_date</th>\n",
       "      <th>production_budget</th>\n",
       "      <th>domestic_gross</th>\n",
       "      <th>worldwide_gross</th>\n",
       "      <th>ROI_Percentage</th>\n",
       "    </tr>\n",
       "  </thead>\n",
       "  <tbody>\n",
       "    <tr>\n",
       "      <th>0</th>\n",
       "      <td>The Last Airbender</td>\n",
       "      <td>Action,Adventure,Family</td>\n",
       "      <td>4.1</td>\n",
       "      <td>producer</td>\n",
       "      <td>Frank Marshall</td>\n",
       "      <td>producer,miscellaneous,director</td>\n",
       "      <td>Jul 1, 2010</td>\n",
       "      <td>150000000</td>\n",
       "      <td>131772187</td>\n",
       "      <td>319713881</td>\n",
       "      <td>213.142587</td>\n",
       "    </tr>\n",
       "    <tr>\n",
       "      <th>1</th>\n",
       "      <td>The Last Airbender</td>\n",
       "      <td>Action,Adventure,Family</td>\n",
       "      <td>4.1</td>\n",
       "      <td>actor</td>\n",
       "      <td>Dev Patel</td>\n",
       "      <td>actor,producer,director</td>\n",
       "      <td>Jul 1, 2010</td>\n",
       "      <td>150000000</td>\n",
       "      <td>131772187</td>\n",
       "      <td>319713881</td>\n",
       "      <td>213.142587</td>\n",
       "    </tr>\n",
       "    <tr>\n",
       "      <th>2</th>\n",
       "      <td>The Last Airbender</td>\n",
       "      <td>Action,Adventure,Family</td>\n",
       "      <td>4.1</td>\n",
       "      <td>editor</td>\n",
       "      <td>Conrad Buff IV</td>\n",
       "      <td>editor,visual_effects,editorial_department</td>\n",
       "      <td>Jul 1, 2010</td>\n",
       "      <td>150000000</td>\n",
       "      <td>131772187</td>\n",
       "      <td>319713881</td>\n",
       "      <td>213.142587</td>\n",
       "    </tr>\n",
       "    <tr>\n",
       "      <th>3</th>\n",
       "      <td>The Last Airbender</td>\n",
       "      <td>Action,Adventure,Family</td>\n",
       "      <td>4.1</td>\n",
       "      <td>actor</td>\n",
       "      <td>Noah Ringer</td>\n",
       "      <td>actor</td>\n",
       "      <td>Jul 1, 2010</td>\n",
       "      <td>150000000</td>\n",
       "      <td>131772187</td>\n",
       "      <td>319713881</td>\n",
       "      <td>213.142587</td>\n",
       "    </tr>\n",
       "    <tr>\n",
       "      <th>4</th>\n",
       "      <td>The Last Airbender</td>\n",
       "      <td>Action,Adventure,Family</td>\n",
       "      <td>4.1</td>\n",
       "      <td>actress</td>\n",
       "      <td>Nicola Peltz</td>\n",
       "      <td>actress</td>\n",
       "      <td>Jul 1, 2010</td>\n",
       "      <td>150000000</td>\n",
       "      <td>131772187</td>\n",
       "      <td>319713881</td>\n",
       "      <td>213.142587</td>\n",
       "    </tr>\n",
       "    <tr>\n",
       "      <th>...</th>\n",
       "      <td>...</td>\n",
       "      <td>...</td>\n",
       "      <td>...</td>\n",
       "      <td>...</td>\n",
       "      <td>...</td>\n",
       "      <td>...</td>\n",
       "      <td>...</td>\n",
       "      <td>...</td>\n",
       "      <td>...</td>\n",
       "      <td>...</td>\n",
       "      <td>...</td>\n",
       "    </tr>\n",
       "    <tr>\n",
       "      <th>24722</th>\n",
       "      <td>The Patriot</td>\n",
       "      <td>Documentary</td>\n",
       "      <td>7.3</td>\n",
       "      <td>editor</td>\n",
       "      <td>Yosef Grunfeld</td>\n",
       "      <td>editor,editorial_department,writer</td>\n",
       "      <td>Jun 28, 2000</td>\n",
       "      <td>110000000</td>\n",
       "      <td>113330342</td>\n",
       "      <td>215300000</td>\n",
       "      <td>195.727273</td>\n",
       "    </tr>\n",
       "    <tr>\n",
       "      <th>24908</th>\n",
       "      <td>Panic Room</td>\n",
       "      <td>Action,Drama,Mystery</td>\n",
       "      <td>4.4</td>\n",
       "      <td>actor</td>\n",
       "      <td>Brock Brazda</td>\n",
       "      <td>actor,producer,cinematographer</td>\n",
       "      <td>Mar 29, 2002</td>\n",
       "      <td>48000000</td>\n",
       "      <td>95308367</td>\n",
       "      <td>196308367</td>\n",
       "      <td>408.975765</td>\n",
       "    </tr>\n",
       "    <tr>\n",
       "      <th>24909</th>\n",
       "      <td>Panic Room</td>\n",
       "      <td>Action,Drama,Mystery</td>\n",
       "      <td>4.4</td>\n",
       "      <td>director</td>\n",
       "      <td>G.M. Whiting</td>\n",
       "      <td>writer,director,editor</td>\n",
       "      <td>Mar 29, 2002</td>\n",
       "      <td>48000000</td>\n",
       "      <td>95308367</td>\n",
       "      <td>196308367</td>\n",
       "      <td>408.975765</td>\n",
       "    </tr>\n",
       "    <tr>\n",
       "      <th>24916</th>\n",
       "      <td>21</td>\n",
       "      <td>Horror</td>\n",
       "      <td>7.2</td>\n",
       "      <td>director</td>\n",
       "      <td>Jaishankar Chigurula</td>\n",
       "      <td>director,writer,editor</td>\n",
       "      <td>Mar 28, 2008</td>\n",
       "      <td>35000000</td>\n",
       "      <td>81159365</td>\n",
       "      <td>159846429</td>\n",
       "      <td>456.704083</td>\n",
       "    </tr>\n",
       "    <tr>\n",
       "      <th>24981</th>\n",
       "      <td>Heroes</td>\n",
       "      <td>Documentary</td>\n",
       "      <td>7.3</td>\n",
       "      <td>director</td>\n",
       "      <td>Köken Ergun</td>\n",
       "      <td>director,producer,editor</td>\n",
       "      <td>Oct 24, 2008</td>\n",
       "      <td>400000</td>\n",
       "      <td>655538</td>\n",
       "      <td>655538</td>\n",
       "      <td>163.884500</td>\n",
       "    </tr>\n",
       "  </tbody>\n",
       "</table>\n",
       "<p>8842 rows × 11 columns</p>\n",
       "</div>"
      ],
      "text/plain": [
       "                    movie                   genres  average_rating  category  \\\n",
       "0      The Last Airbender  Action,Adventure,Family             4.1  producer   \n",
       "1      The Last Airbender  Action,Adventure,Family             4.1     actor   \n",
       "2      The Last Airbender  Action,Adventure,Family             4.1    editor   \n",
       "3      The Last Airbender  Action,Adventure,Family             4.1     actor   \n",
       "4      The Last Airbender  Action,Adventure,Family             4.1   actress   \n",
       "...                   ...                      ...             ...       ...   \n",
       "24722         The Patriot              Documentary             7.3    editor   \n",
       "24908          Panic Room     Action,Drama,Mystery             4.4     actor   \n",
       "24909          Panic Room     Action,Drama,Mystery             4.4  director   \n",
       "24916                  21                   Horror             7.2  director   \n",
       "24981              Heroes              Documentary             7.3  director   \n",
       "\n",
       "               primary_name                          primary_profession  \\\n",
       "0            Frank Marshall             producer,miscellaneous,director   \n",
       "1                 Dev Patel                     actor,producer,director   \n",
       "2            Conrad Buff IV  editor,visual_effects,editorial_department   \n",
       "3               Noah Ringer                                       actor   \n",
       "4              Nicola Peltz                                     actress   \n",
       "...                     ...                                         ...   \n",
       "24722        Yosef Grunfeld          editor,editorial_department,writer   \n",
       "24908          Brock Brazda              actor,producer,cinematographer   \n",
       "24909          G.M. Whiting                      writer,director,editor   \n",
       "24916  Jaishankar Chigurula                      director,writer,editor   \n",
       "24981           Köken Ergun                    director,producer,editor   \n",
       "\n",
       "       release_date  production_budget  domestic_gross  worldwide_gross  \\\n",
       "0       Jul 1, 2010          150000000       131772187        319713881   \n",
       "1       Jul 1, 2010          150000000       131772187        319713881   \n",
       "2       Jul 1, 2010          150000000       131772187        319713881   \n",
       "3       Jul 1, 2010          150000000       131772187        319713881   \n",
       "4       Jul 1, 2010          150000000       131772187        319713881   \n",
       "...             ...                ...             ...              ...   \n",
       "24722  Jun 28, 2000          110000000       113330342        215300000   \n",
       "24908  Mar 29, 2002           48000000        95308367        196308367   \n",
       "24909  Mar 29, 2002           48000000        95308367        196308367   \n",
       "24916  Mar 28, 2008           35000000        81159365        159846429   \n",
       "24981  Oct 24, 2008             400000          655538           655538   \n",
       "\n",
       "       ROI_Percentage  \n",
       "0          213.142587  \n",
       "1          213.142587  \n",
       "2          213.142587  \n",
       "3          213.142587  \n",
       "4          213.142587  \n",
       "...               ...  \n",
       "24722      195.727273  \n",
       "24908      408.975765  \n",
       "24909      408.975765  \n",
       "24916      456.704083  \n",
       "24981      163.884500  \n",
       "\n",
       "[8842 rows x 11 columns]"
      ]
     },
     "execution_count": 28,
     "metadata": {},
     "output_type": "execute_result"
    }
   ],
   "source": [
    "movie7"
   ]
  },
  {
   "cell_type": "markdown",
   "metadata": {},
   "source": [
    "## Time To Filter out  for specific roles\n",
    "We need the best directors, actors, actresses, and producers. Therefore first I create seperate data sets that contain that only role from the 'category' column. Then using value_counts we use the most 10 most listed names. Using the 10 listed names, we create a list which contains the names and insert to filter and contain the names listed."
   ]
  },
  {
   "cell_type": "code",
   "execution_count": 29,
   "metadata": {},
   "outputs": [],
   "source": [
    "director = movie7.set_index('category').filter(regex='director', axis = 0)"
   ]
  },
  {
   "cell_type": "code",
   "execution_count": 30,
   "metadata": {},
   "outputs": [],
   "source": [
    "actor = movie7.set_index('category').filter(regex='actor', axis = 0)"
   ]
  },
  {
   "cell_type": "code",
   "execution_count": 31,
   "metadata": {},
   "outputs": [],
   "source": [
    "actress = movie7.set_index('category').filter(regex='actress', axis = 0)"
   ]
  },
  {
   "cell_type": "code",
   "execution_count": 32,
   "metadata": {},
   "outputs": [],
   "source": [
    "producer = movie7.set_index('category').filter(regex='producer', axis = 0)"
   ]
  },
  {
   "cell_type": "code",
   "execution_count": 33,
   "metadata": {},
   "outputs": [
    {
     "data": {
      "text/plain": [
       "Tim Story             7\n",
       "Steven Spielberg      7\n",
       "Ridley Scott          6\n",
       "Clint Eastwood        6\n",
       "Steven Soderbergh     6\n",
       "Brad Peyton           5\n",
       "Francis Lawrence      5\n",
       "Antoine Fuqua         5\n",
       "Jaume Collet-Serra    5\n",
       "Paul W.S. Anderson    5\n",
       "Name: primary_name, dtype: int64"
      ]
     },
     "execution_count": 33,
     "metadata": {},
     "output_type": "execute_result"
    }
   ],
   "source": [
    "director['primary_name'].value_counts().head(10)"
   ]
  },
  {
   "cell_type": "code",
   "execution_count": 34,
   "metadata": {},
   "outputs": [
    {
     "data": {
      "text/plain": [
       "Dwayne Johnson    17\n",
       "Liam Neeson       16\n",
       "Kevin Hart        15\n",
       "Mark Wahlberg     15\n",
       "Channing Tatum    15\n",
       "Steve Carell      12\n",
       "Owen Wilson       12\n",
       "Joel Edgerton     12\n",
       "Robert De Niro    11\n",
       "Bradley Cooper    11\n",
       "Name: primary_name, dtype: int64"
      ]
     },
     "execution_count": 34,
     "metadata": {},
     "output_type": "execute_result"
    }
   ],
   "source": [
    "actor['primary_name'].value_counts().head(10)"
   ]
  },
  {
   "cell_type": "code",
   "execution_count": 35,
   "metadata": {},
   "outputs": [
    {
     "data": {
      "text/plain": [
       "Jennifer Lawrence     13\n",
       "Emily Blunt           12\n",
       "Amy Adams             12\n",
       "Anna Kendrick         11\n",
       "Cate Blanchett        11\n",
       "Anne Hathaway         10\n",
       "Rooney Mara           10\n",
       "Kristen Wiig          10\n",
       "Chloë Grace Moretz    10\n",
       "Rachel McAdams        10\n",
       "Name: primary_name, dtype: int64"
      ]
     },
     "execution_count": 35,
     "metadata": {},
     "output_type": "execute_result"
    }
   ],
   "source": [
    "actress['primary_name'].value_counts().head(10)"
   ]
  },
  {
   "cell_type": "code",
   "execution_count": 36,
   "metadata": {},
   "outputs": [
    {
     "data": {
      "text/plain": [
       "Jason Blum                37\n",
       "Tim Bevan                 17\n",
       "Eric Fellner              16\n",
       "Peter Chernin             14\n",
       "Lorenzo di Bonaventura    13\n",
       "Michael Bay               12\n",
       "Scott Rudin               12\n",
       "Marc Platt                10\n",
       "Michael De Luca           10\n",
       "Beau Flynn                 9\n",
       "Name: primary_name, dtype: int64"
      ]
     },
     "execution_count": 36,
     "metadata": {},
     "output_type": "execute_result"
    }
   ],
   "source": [
    "producer['primary_name'].value_counts().head(10)"
   ]
  },
  {
   "cell_type": "code",
   "execution_count": 37,
   "metadata": {},
   "outputs": [],
   "source": [
    "#create director list for easier filtering\n",
    "director_list10 = ['Antoine Fuqua', 'Brad Peyton', 'David Gordon Green','Francis Lawrence','Ridley Scott',\n",
    "                  'Steven Soderbergh', 'Steven Spielberg', 'Tim Burton', 'Tim Story', 'Zack Snyder']"
   ]
  },
  {
   "cell_type": "code",
   "execution_count": 38,
   "metadata": {},
   "outputs": [],
   "source": [
    "director_list = sorted(director_list10)"
   ]
  },
  {
   "cell_type": "code",
   "execution_count": 39,
   "metadata": {},
   "outputs": [],
   "source": [
    "actor_list10 = ['Dwayne Johnson','Liam Neeson','Mark Wahlberg','Kevin Hart','Channing Tatum',    \n",
    "'Steve Carell','Joel Edgerton','Owen Wilson','Jonah Hill','Tom Hardy']"
   ]
  },
  {
   "cell_type": "code",
   "execution_count": 41,
   "metadata": {},
   "outputs": [],
   "source": [
    "#Sort List Name alphabetically\n",
    "actor_list= sorted(actor_list10)"
   ]
  },
  {
   "cell_type": "code",
   "execution_count": 42,
   "metadata": {},
   "outputs": [],
   "source": [
    "actress_list10 = ['Jennifer Lawrence','Amy Adams','Emily Blunt','Anna Kendrick','Cate Blanchett',        \n",
    "'Emma Stone','Scarlett Johansson','Chloë Grace Moretz','Kristen Wiig', 'Rachel McAdams']"
   ]
  },
  {
   "cell_type": "code",
   "execution_count": 43,
   "metadata": {},
   "outputs": [],
   "source": [
    "#sort Actress List name alphabetically\n",
    "actress_list = sorted(actress_list10)"
   ]
  },
  {
   "cell_type": "code",
   "execution_count": 44,
   "metadata": {},
   "outputs": [],
   "source": [
    "producer_list10 = ['Jason Blum', 'Tim Bevan', 'Eric Fellner','Peter Chernin','Lorenzo di Bonaventura',\n",
    "                  'Michael Bay', 'Scott Rudin', 'Michael De Luca', 'Marc Platt', 'Peter Safran']"
   ]
  },
  {
   "cell_type": "code",
   "execution_count": 45,
   "metadata": {},
   "outputs": [],
   "source": [
    "#sort Producer List Alphabetically\n",
    "producer_list = sorted(producer_list10)"
   ]
  },
  {
   "cell_type": "code",
   "execution_count": 46,
   "metadata": {},
   "outputs": [],
   "source": [
    "\n",
    "Director1 = director[director.primary_name.isin(director_list)]"
   ]
  },
  {
   "cell_type": "code",
   "execution_count": 47,
   "metadata": {},
   "outputs": [],
   "source": [
    "actor1 = actor[actor.primary_name.isin(actor_list)]"
   ]
  },
  {
   "cell_type": "code",
   "execution_count": 48,
   "metadata": {},
   "outputs": [],
   "source": [
    "actress1 = actress[actress.primary_name.isin(actress_list)]"
   ]
  },
  {
   "cell_type": "code",
   "execution_count": 49,
   "metadata": {},
   "outputs": [],
   "source": [
    "producer1 = producer[producer.primary_name.isin(producer_list)]"
   ]
  },
  {
   "cell_type": "markdown",
   "metadata": {},
   "source": [
    "### Basics stats for all columns and all people"
   ]
  },
  {
   "cell_type": "code",
   "execution_count": 50,
   "metadata": {},
   "outputs": [
    {
     "data": {
      "text/html": [
       "<div>\n",
       "<style scoped>\n",
       "    .dataframe tbody tr th:only-of-type {\n",
       "        vertical-align: middle;\n",
       "    }\n",
       "\n",
       "    .dataframe tbody tr th {\n",
       "        vertical-align: top;\n",
       "    }\n",
       "\n",
       "    .dataframe thead tr th {\n",
       "        text-align: left;\n",
       "    }\n",
       "\n",
       "    .dataframe thead tr:last-of-type th {\n",
       "        text-align: right;\n",
       "    }\n",
       "</style>\n",
       "<table border=\"1\" class=\"dataframe\">\n",
       "  <thead>\n",
       "    <tr>\n",
       "      <th></th>\n",
       "      <th colspan=\"3\" halign=\"left\">average_rating</th>\n",
       "      <th colspan=\"3\" halign=\"left\">production_budget</th>\n",
       "      <th colspan=\"3\" halign=\"left\">domestic_gross</th>\n",
       "      <th colspan=\"3\" halign=\"left\">worldwide_gross</th>\n",
       "      <th colspan=\"3\" halign=\"left\">ROI_Percentage</th>\n",
       "    </tr>\n",
       "    <tr>\n",
       "      <th></th>\n",
       "      <th>mean</th>\n",
       "      <th>median</th>\n",
       "      <th>count</th>\n",
       "      <th>mean</th>\n",
       "      <th>median</th>\n",
       "      <th>count</th>\n",
       "      <th>mean</th>\n",
       "      <th>median</th>\n",
       "      <th>count</th>\n",
       "      <th>mean</th>\n",
       "      <th>median</th>\n",
       "      <th>count</th>\n",
       "      <th>mean</th>\n",
       "      <th>median</th>\n",
       "      <th>count</th>\n",
       "    </tr>\n",
       "    <tr>\n",
       "      <th>primary_name</th>\n",
       "      <th></th>\n",
       "      <th></th>\n",
       "      <th></th>\n",
       "      <th></th>\n",
       "      <th></th>\n",
       "      <th></th>\n",
       "      <th></th>\n",
       "      <th></th>\n",
       "      <th></th>\n",
       "      <th></th>\n",
       "      <th></th>\n",
       "      <th></th>\n",
       "      <th></th>\n",
       "      <th></th>\n",
       "      <th></th>\n",
       "    </tr>\n",
       "  </thead>\n",
       "  <tbody>\n",
       "    <tr>\n",
       "      <th>50 Cent</th>\n",
       "      <td>6.70</td>\n",
       "      <td>6.7</td>\n",
       "      <td>3</td>\n",
       "      <td>3.973333e+07</td>\n",
       "      <td>30000000.0</td>\n",
       "      <td>3</td>\n",
       "      <td>2.336120e+07</td>\n",
       "      <td>25135965.0</td>\n",
       "      <td>3</td>\n",
       "      <td>6.316161e+07</td>\n",
       "      <td>80131391.0</td>\n",
       "      <td>3</td>\n",
       "      <td>148.185492</td>\n",
       "      <td>148.194236</td>\n",
       "      <td>3</td>\n",
       "    </tr>\n",
       "    <tr>\n",
       "      <th>A. Scott Berg</th>\n",
       "      <td>6.60</td>\n",
       "      <td>6.6</td>\n",
       "      <td>1</td>\n",
       "      <td>1.700000e+07</td>\n",
       "      <td>17000000.0</td>\n",
       "      <td>1</td>\n",
       "      <td>1.361045e+06</td>\n",
       "      <td>1361045.0</td>\n",
       "      <td>1</td>\n",
       "      <td>7.265283e+06</td>\n",
       "      <td>7265283.0</td>\n",
       "      <td>1</td>\n",
       "      <td>42.736959</td>\n",
       "      <td>42.736959</td>\n",
       "      <td>1</td>\n",
       "    </tr>\n",
       "    <tr>\n",
       "      <th>A.A. Milne</th>\n",
       "      <td>7.30</td>\n",
       "      <td>7.3</td>\n",
       "      <td>1</td>\n",
       "      <td>7.500000e+07</td>\n",
       "      <td>75000000.0</td>\n",
       "      <td>1</td>\n",
       "      <td>9.921504e+07</td>\n",
       "      <td>99215042.0</td>\n",
       "      <td>1</td>\n",
       "      <td>1.975048e+08</td>\n",
       "      <td>197504758.0</td>\n",
       "      <td>1</td>\n",
       "      <td>263.339677</td>\n",
       "      <td>263.339677</td>\n",
       "      <td>1</td>\n",
       "    </tr>\n",
       "    <tr>\n",
       "      <th>A.J. Buckley</th>\n",
       "      <td>5.80</td>\n",
       "      <td>5.8</td>\n",
       "      <td>1</td>\n",
       "      <td>2.500000e+06</td>\n",
       "      <td>2500000.0</td>\n",
       "      <td>1</td>\n",
       "      <td>0.000000e+00</td>\n",
       "      <td>0.0</td>\n",
       "      <td>1</td>\n",
       "      <td>0.000000e+00</td>\n",
       "      <td>0.0</td>\n",
       "      <td>1</td>\n",
       "      <td>0.000000</td>\n",
       "      <td>0.000000</td>\n",
       "      <td>1</td>\n",
       "    </tr>\n",
       "    <tr>\n",
       "      <th>A.R. Rahman</th>\n",
       "      <td>7.24</td>\n",
       "      <td>7.1</td>\n",
       "      <td>5</td>\n",
       "      <td>1.404000e+07</td>\n",
       "      <td>16000000.0</td>\n",
       "      <td>5</td>\n",
       "      <td>1.405250e+07</td>\n",
       "      <td>12431792.0</td>\n",
       "      <td>5</td>\n",
       "      <td>2.357184e+07</td>\n",
       "      <td>12617472.0</td>\n",
       "      <td>5</td>\n",
       "      <td>126.677324</td>\n",
       "      <td>78.859200</td>\n",
       "      <td>5</td>\n",
       "    </tr>\n",
       "    <tr>\n",
       "      <th>...</th>\n",
       "      <td>...</td>\n",
       "      <td>...</td>\n",
       "      <td>...</td>\n",
       "      <td>...</td>\n",
       "      <td>...</td>\n",
       "      <td>...</td>\n",
       "      <td>...</td>\n",
       "      <td>...</td>\n",
       "      <td>...</td>\n",
       "      <td>...</td>\n",
       "      <td>...</td>\n",
       "      <td>...</td>\n",
       "      <td>...</td>\n",
       "      <td>...</td>\n",
       "      <td>...</td>\n",
       "    </tr>\n",
       "    <tr>\n",
       "      <th>Éric Serra</th>\n",
       "      <td>5.90</td>\n",
       "      <td>5.9</td>\n",
       "      <td>2</td>\n",
       "      <td>5.875000e+07</td>\n",
       "      <td>58750000.0</td>\n",
       "      <td>2</td>\n",
       "      <td>6.328698e+07</td>\n",
       "      <td>63286980.0</td>\n",
       "      <td>2</td>\n",
       "      <td>2.295147e+08</td>\n",
       "      <td>229514724.0</td>\n",
       "      <td>2</td>\n",
       "      <td>572.866444</td>\n",
       "      <td>572.866444</td>\n",
       "      <td>2</td>\n",
       "    </tr>\n",
       "    <tr>\n",
       "      <th>Éric Toledano</th>\n",
       "      <td>6.70</td>\n",
       "      <td>6.7</td>\n",
       "      <td>1</td>\n",
       "      <td>3.750000e+07</td>\n",
       "      <td>37500000.0</td>\n",
       "      <td>1</td>\n",
       "      <td>1.082355e+08</td>\n",
       "      <td>108235497.0</td>\n",
       "      <td>1</td>\n",
       "      <td>1.190245e+08</td>\n",
       "      <td>119024536.0</td>\n",
       "      <td>1</td>\n",
       "      <td>317.398763</td>\n",
       "      <td>317.398763</td>\n",
       "      <td>1</td>\n",
       "    </tr>\n",
       "    <tr>\n",
       "      <th>Ólafur Darri Ólafsson</th>\n",
       "      <td>6.00</td>\n",
       "      <td>6.0</td>\n",
       "      <td>1</td>\n",
       "      <td>8.000000e+07</td>\n",
       "      <td>80000000.0</td>\n",
       "      <td>1</td>\n",
       "      <td>2.736766e+07</td>\n",
       "      <td>27367660.0</td>\n",
       "      <td>1</td>\n",
       "      <td>1.308189e+08</td>\n",
       "      <td>130818912.0</td>\n",
       "      <td>1</td>\n",
       "      <td>163.523640</td>\n",
       "      <td>163.523640</td>\n",
       "      <td>1</td>\n",
       "    </tr>\n",
       "    <tr>\n",
       "      <th>Óscar Jaenada</th>\n",
       "      <td>6.30</td>\n",
       "      <td>6.3</td>\n",
       "      <td>1</td>\n",
       "      <td>1.300000e+07</td>\n",
       "      <td>13000000.0</td>\n",
       "      <td>1</td>\n",
       "      <td>5.512162e+07</td>\n",
       "      <td>55121623.0</td>\n",
       "      <td>1</td>\n",
       "      <td>1.187634e+08</td>\n",
       "      <td>118763442.0</td>\n",
       "      <td>1</td>\n",
       "      <td>913.564938</td>\n",
       "      <td>913.564938</td>\n",
       "      <td>1</td>\n",
       "    </tr>\n",
       "    <tr>\n",
       "      <th>Óskar Jónasson</th>\n",
       "      <td>6.50</td>\n",
       "      <td>6.5</td>\n",
       "      <td>1</td>\n",
       "      <td>2.500000e+07</td>\n",
       "      <td>25000000.0</td>\n",
       "      <td>1</td>\n",
       "      <td>6.652800e+07</td>\n",
       "      <td>66528000.0</td>\n",
       "      <td>1</td>\n",
       "      <td>9.840686e+07</td>\n",
       "      <td>98406855.0</td>\n",
       "      <td>1</td>\n",
       "      <td>393.627420</td>\n",
       "      <td>393.627420</td>\n",
       "      <td>1</td>\n",
       "    </tr>\n",
       "  </tbody>\n",
       "</table>\n",
       "<p>6586 rows × 15 columns</p>\n",
       "</div>"
      ],
      "text/plain": [
       "                      average_rating              production_budget  \\\n",
       "                                mean median count              mean   \n",
       "primary_name                                                          \n",
       "50 Cent                         6.70    6.7     3      3.973333e+07   \n",
       "A. Scott Berg                   6.60    6.6     1      1.700000e+07   \n",
       "A.A. Milne                      7.30    7.3     1      7.500000e+07   \n",
       "A.J. Buckley                    5.80    5.8     1      2.500000e+06   \n",
       "A.R. Rahman                     7.24    7.1     5      1.404000e+07   \n",
       "...                              ...    ...   ...               ...   \n",
       "Éric Serra                      5.90    5.9     2      5.875000e+07   \n",
       "Éric Toledano                   6.70    6.7     1      3.750000e+07   \n",
       "Ólafur Darri Ólafsson           6.00    6.0     1      8.000000e+07   \n",
       "Óscar Jaenada                   6.30    6.3     1      1.300000e+07   \n",
       "Óskar Jónasson                  6.50    6.5     1      2.500000e+07   \n",
       "\n",
       "                                        domestic_gross                     \\\n",
       "                           median count           mean       median count   \n",
       "primary_name                                                                \n",
       "50 Cent                30000000.0     3   2.336120e+07   25135965.0     3   \n",
       "A. Scott Berg          17000000.0     1   1.361045e+06    1361045.0     1   \n",
       "A.A. Milne             75000000.0     1   9.921504e+07   99215042.0     1   \n",
       "A.J. Buckley            2500000.0     1   0.000000e+00          0.0     1   \n",
       "A.R. Rahman            16000000.0     5   1.405250e+07   12431792.0     5   \n",
       "...                           ...   ...            ...          ...   ...   \n",
       "Éric Serra             58750000.0     2   6.328698e+07   63286980.0     2   \n",
       "Éric Toledano          37500000.0     1   1.082355e+08  108235497.0     1   \n",
       "Ólafur Darri Ólafsson  80000000.0     1   2.736766e+07   27367660.0     1   \n",
       "Óscar Jaenada          13000000.0     1   5.512162e+07   55121623.0     1   \n",
       "Óskar Jónasson         25000000.0     1   6.652800e+07   66528000.0     1   \n",
       "\n",
       "                      worldwide_gross                    ROI_Percentage  \\\n",
       "                                 mean       median count           mean   \n",
       "primary_name                                                              \n",
       "50 Cent                  6.316161e+07   80131391.0     3     148.185492   \n",
       "A. Scott Berg            7.265283e+06    7265283.0     1      42.736959   \n",
       "A.A. Milne               1.975048e+08  197504758.0     1     263.339677   \n",
       "A.J. Buckley             0.000000e+00          0.0     1       0.000000   \n",
       "A.R. Rahman              2.357184e+07   12617472.0     5     126.677324   \n",
       "...                               ...          ...   ...            ...   \n",
       "Éric Serra               2.295147e+08  229514724.0     2     572.866444   \n",
       "Éric Toledano            1.190245e+08  119024536.0     1     317.398763   \n",
       "Ólafur Darri Ólafsson    1.308189e+08  130818912.0     1     163.523640   \n",
       "Óscar Jaenada            1.187634e+08  118763442.0     1     913.564938   \n",
       "Óskar Jónasson           9.840686e+07   98406855.0     1     393.627420   \n",
       "\n",
       "                                         \n",
       "                           median count  \n",
       "primary_name                             \n",
       "50 Cent                148.194236     3  \n",
       "A. Scott Berg           42.736959     1  \n",
       "A.A. Milne             263.339677     1  \n",
       "A.J. Buckley             0.000000     1  \n",
       "A.R. Rahman             78.859200     5  \n",
       "...                           ...   ...  \n",
       "Éric Serra             572.866444     2  \n",
       "Éric Toledano          317.398763     1  \n",
       "Ólafur Darri Ólafsson  163.523640     1  \n",
       "Óscar Jaenada          913.564938     1  \n",
       "Óskar Jónasson         393.627420     1  \n",
       "\n",
       "[6586 rows x 15 columns]"
      ]
     },
     "execution_count": 50,
     "metadata": {},
     "output_type": "execute_result"
    }
   ],
   "source": [
    "movie6.groupby(['primary_name']).agg(['mean', 'median', 'count'])"
   ]
  },
  {
   "cell_type": "markdown",
   "metadata": {},
   "source": [
    "### Data Visualization, comparison of ROI Percentage and and Average rating\n",
    "Once we have the final data sets for the top actors, actresses, directors, and producers. First descriptive statistics of ROI Percentage and average rating for directors, actors, actresses, and producers is provided. Next step is to group them using .groupby, that way all the numerical data is collected and listed by the person rather than the movie.\n",
    "Once the data is grouped, the primary_name column does no longer function. Therefore we create a new column, using the listed made earlier to create a new column. The new column data will match the name of the person which will serve function when it comes to plotting data.\n"
   ]
  },
  {
   "cell_type": "code",
   "execution_count": 51,
   "metadata": {},
   "outputs": [
    {
     "data": {
      "text/plain": [
       "count       55.000000\n",
       "mean       821.348810\n",
       "std       2883.587569\n",
       "min        119.677852\n",
       "25%        209.801690\n",
       "50%        296.888675\n",
       "75%        417.656615\n",
       "max      21538.461538\n",
       "Name: ROI_Percentage, dtype: float64"
      ]
     },
     "execution_count": 51,
     "metadata": {},
     "output_type": "execute_result"
    }
   ],
   "source": [
    "Director1['ROI_Percentage'].describe()"
   ]
  },
  {
   "cell_type": "code",
   "execution_count": 52,
   "metadata": {},
   "outputs": [
    {
     "data": {
      "text/plain": [
       "count       55.000000\n",
       "mean       821.348810\n",
       "std       2883.587569\n",
       "min        119.677852\n",
       "25%        209.801690\n",
       "50%        296.888675\n",
       "75%        417.656615\n",
       "max      21538.461538\n",
       "Name: ROI_Percentage, dtype: float64"
      ]
     },
     "execution_count": 52,
     "metadata": {},
     "output_type": "execute_result"
    }
   ],
   "source": [
    "Director1['ROI_Percentage'].describe()"
   ]
  },
  {
   "cell_type": "code",
   "execution_count": 53,
   "metadata": {},
   "outputs": [
    {
     "data": {
      "text/plain": [
       "count    136.000000\n",
       "mean       6.569118\n",
       "std        0.724647\n",
       "min        4.200000\n",
       "25%        6.100000\n",
       "50%        6.500000\n",
       "75%        7.100000\n",
       "max        8.400000\n",
       "Name: average_rating, dtype: float64"
      ]
     },
     "execution_count": 53,
     "metadata": {},
     "output_type": "execute_result"
    }
   ],
   "source": [
    "actor1['average_rating'].describe()"
   ]
  },
  {
   "cell_type": "code",
   "execution_count": 54,
   "metadata": {},
   "outputs": [
    {
     "data": {
      "text/plain": [
       "count     136.000000\n",
       "mean      399.351120\n",
       "std       335.839229\n",
       "min       101.666212\n",
       "25%       194.564713\n",
       "50%       303.325287\n",
       "75%       436.696620\n",
       "max      2436.425043\n",
       "Name: ROI_Percentage, dtype: float64"
      ]
     },
     "execution_count": 54,
     "metadata": {},
     "output_type": "execute_result"
    }
   ],
   "source": [
    "actor1['ROI_Percentage'].describe()"
   ]
  },
  {
   "cell_type": "code",
   "execution_count": 55,
   "metadata": {},
   "outputs": [
    {
     "data": {
      "text/plain": [
       "count    150.000000\n",
       "mean       6.447333\n",
       "std        0.989047\n",
       "min        3.400000\n",
       "25%        5.900000\n",
       "50%        6.450000\n",
       "75%        7.175000\n",
       "max        8.500000\n",
       "Name: average_rating, dtype: float64"
      ]
     },
     "execution_count": 55,
     "metadata": {},
     "output_type": "execute_result"
    }
   ],
   "source": [
    "producer1['average_rating'].describe()"
   ]
  },
  {
   "cell_type": "code",
   "execution_count": 56,
   "metadata": {},
   "outputs": [
    {
     "data": {
      "text/plain": [
       "count      150.000000\n",
       "mean      1170.710162\n",
       "std       3539.457290\n",
       "min        100.482200\n",
       "25%        243.174212\n",
       "50%        456.074107\n",
       "75%       1019.948476\n",
       "max      41656.474000\n",
       "Name: ROI_Percentage, dtype: float64"
      ]
     },
     "execution_count": 56,
     "metadata": {},
     "output_type": "execute_result"
    }
   ],
   "source": [
    "producer1['ROI_Percentage'].describe()"
   ]
  },
  {
   "cell_type": "code",
   "execution_count": 57,
   "metadata": {},
   "outputs": [
    {
     "data": {
      "text/plain": [
       "count    1829.000000\n",
       "mean        6.359595\n",
       "std         1.021156\n",
       "min         1.700000\n",
       "25%         5.800000\n",
       "50%         6.400000\n",
       "75%         7.100000\n",
       "max         8.800000\n",
       "Name: average_rating, dtype: float64"
      ]
     },
     "execution_count": 57,
     "metadata": {},
     "output_type": "execute_result"
    }
   ],
   "source": [
    "actress['average_rating'].describe()"
   ]
  },
  {
   "cell_type": "code",
   "execution_count": 58,
   "metadata": {},
   "outputs": [
    {
     "data": {
      "text/plain": [
       "count     109.000000\n",
       "mean      592.798635\n",
       "std       924.203892\n",
       "min       100.026547\n",
       "25%       234.221785\n",
       "50%       382.405208\n",
       "75%       644.695735\n",
       "max      9089.359138\n",
       "Name: ROI_Percentage, dtype: float64"
      ]
     },
     "execution_count": 58,
     "metadata": {},
     "output_type": "execute_result"
    }
   ],
   "source": [
    "actress1['ROI_Percentage'].describe()"
   ]
  },
  {
   "cell_type": "code",
   "execution_count": null,
   "metadata": {},
   "outputs": [],
   "source": []
  },
  {
   "cell_type": "code",
   "execution_count": 59,
   "metadata": {},
   "outputs": [],
   "source": [
    "import matplotlib\n",
    "import matplotlib.pyplot as plt"
   ]
  },
  {
   "cell_type": "code",
   "execution_count": 62,
   "metadata": {},
   "outputs": [],
   "source": [
    "Director = Director1.groupby(['primary_name']).agg(['mean'])"
   ]
  },
  {
   "cell_type": "code",
   "execution_count": 63,
   "metadata": {},
   "outputs": [],
   "source": [
    "Director['Director_name'] = director_list10"
   ]
  },
  {
   "cell_type": "code",
   "execution_count": 64,
   "metadata": {},
   "outputs": [],
   "source": [
    "Director.sort_values(by= ['Director_name'], inplace = True)"
   ]
  },
  {
   "cell_type": "code",
   "execution_count": 65,
   "metadata": {},
   "outputs": [
    {
     "data": {
      "text/html": [
       "<div>\n",
       "<style scoped>\n",
       "    .dataframe tbody tr th:only-of-type {\n",
       "        vertical-align: middle;\n",
       "    }\n",
       "\n",
       "    .dataframe tbody tr th {\n",
       "        vertical-align: top;\n",
       "    }\n",
       "\n",
       "    .dataframe thead tr th {\n",
       "        text-align: left;\n",
       "    }\n",
       "\n",
       "    .dataframe thead tr:last-of-type th {\n",
       "        text-align: right;\n",
       "    }\n",
       "</style>\n",
       "<table border=\"1\" class=\"dataframe\">\n",
       "  <thead>\n",
       "    <tr>\n",
       "      <th></th>\n",
       "      <th>average_rating</th>\n",
       "      <th>production_budget</th>\n",
       "      <th>domestic_gross</th>\n",
       "      <th>worldwide_gross</th>\n",
       "      <th>ROI_Percentage</th>\n",
       "      <th>Director_name</th>\n",
       "    </tr>\n",
       "    <tr>\n",
       "      <th></th>\n",
       "      <th>mean</th>\n",
       "      <th>mean</th>\n",
       "      <th>mean</th>\n",
       "      <th>mean</th>\n",
       "      <th>mean</th>\n",
       "      <th></th>\n",
       "    </tr>\n",
       "    <tr>\n",
       "      <th>primary_name</th>\n",
       "      <th></th>\n",
       "      <th></th>\n",
       "      <th></th>\n",
       "      <th></th>\n",
       "      <th></th>\n",
       "      <th></th>\n",
       "    </tr>\n",
       "  </thead>\n",
       "  <tbody>\n",
       "    <tr>\n",
       "      <th>Antoine Fuqua</th>\n",
       "      <td>6.940000</td>\n",
       "      <td>6.440000e+07</td>\n",
       "      <td>8.967946e+07</td>\n",
       "      <td>1.625835e+08</td>\n",
       "      <td>267.896770</td>\n",
       "      <td>Antoine Fuqua</td>\n",
       "    </tr>\n",
       "    <tr>\n",
       "      <th>Brad Peyton</th>\n",
       "      <td>5.520000</td>\n",
       "      <td>7.980000e+07</td>\n",
       "      <td>8.169298e+07</td>\n",
       "      <td>2.649717e+08</td>\n",
       "      <td>298.920731</td>\n",
       "      <td>Brad Peyton</td>\n",
       "    </tr>\n",
       "    <tr>\n",
       "      <th>David Gordon Green</th>\n",
       "      <td>6.375000</td>\n",
       "      <td>1.258125e+07</td>\n",
       "      <td>7.378844e+07</td>\n",
       "      <td>1.102911e+08</td>\n",
       "      <td>6189.807124</td>\n",
       "      <td>David Gordon Green</td>\n",
       "    </tr>\n",
       "    <tr>\n",
       "      <th>Francis Lawrence</th>\n",
       "      <td>6.840000</td>\n",
       "      <td>1.044000e+08</td>\n",
       "      <td>2.298224e+08</td>\n",
       "      <td>5.086383e+08</td>\n",
       "      <td>440.615678</td>\n",
       "      <td>Francis Lawrence</td>\n",
       "    </tr>\n",
       "    <tr>\n",
       "      <th>Ridley Scott</th>\n",
       "      <td>6.550000</td>\n",
       "      <td>1.175000e+08</td>\n",
       "      <td>1.027747e+08</td>\n",
       "      <td>3.263373e+08</td>\n",
       "      <td>300.638682</td>\n",
       "      <td>Ridley Scott</td>\n",
       "    </tr>\n",
       "    <tr>\n",
       "      <th>Steven Soderbergh</th>\n",
       "      <td>6.500000</td>\n",
       "      <td>2.508333e+07</td>\n",
       "      <td>4.599392e+07</td>\n",
       "      <td>7.828790e+07</td>\n",
       "      <td>691.433308</td>\n",
       "      <td>Steven Soderbergh</td>\n",
       "    </tr>\n",
       "    <tr>\n",
       "      <th>Steven Spielberg</th>\n",
       "      <td>7.228571</td>\n",
       "      <td>9.214286e+07</td>\n",
       "      <td>9.815347e+07</td>\n",
       "      <td>2.750485e+08</td>\n",
       "      <td>318.112054</td>\n",
       "      <td>Steven Spielberg</td>\n",
       "    </tr>\n",
       "    <tr>\n",
       "      <th>Tim Burton</th>\n",
       "      <td>6.660000</td>\n",
       "      <td>1.138000e+08</td>\n",
       "      <td>1.155143e+08</td>\n",
       "      <td>3.434334e+08</td>\n",
       "      <td>271.149755</td>\n",
       "      <td>Tim Burton</td>\n",
       "    </tr>\n",
       "    <tr>\n",
       "      <th>Tim Story</th>\n",
       "      <td>6.371429</td>\n",
       "      <td>1.632143e+07</td>\n",
       "      <td>6.359752e+07</td>\n",
       "      <td>7.508479e+07</td>\n",
       "      <td>674.413334</td>\n",
       "      <td>Tim Story</td>\n",
       "    </tr>\n",
       "    <tr>\n",
       "      <th>Zack Snyder</th>\n",
       "      <td>6.640000</td>\n",
       "      <td>1.900000e+08</td>\n",
       "      <td>1.884996e+08</td>\n",
       "      <td>4.841840e+08</td>\n",
       "      <td>224.386352</td>\n",
       "      <td>Zack Snyder</td>\n",
       "    </tr>\n",
       "  </tbody>\n",
       "</table>\n",
       "</div>"
      ],
      "text/plain": [
       "                   average_rating production_budget domestic_gross  \\\n",
       "                             mean              mean           mean   \n",
       "primary_name                                                         \n",
       "Antoine Fuqua            6.940000      6.440000e+07   8.967946e+07   \n",
       "Brad Peyton              5.520000      7.980000e+07   8.169298e+07   \n",
       "David Gordon Green       6.375000      1.258125e+07   7.378844e+07   \n",
       "Francis Lawrence         6.840000      1.044000e+08   2.298224e+08   \n",
       "Ridley Scott             6.550000      1.175000e+08   1.027747e+08   \n",
       "Steven Soderbergh        6.500000      2.508333e+07   4.599392e+07   \n",
       "Steven Spielberg         7.228571      9.214286e+07   9.815347e+07   \n",
       "Tim Burton               6.660000      1.138000e+08   1.155143e+08   \n",
       "Tim Story                6.371429      1.632143e+07   6.359752e+07   \n",
       "Zack Snyder              6.640000      1.900000e+08   1.884996e+08   \n",
       "\n",
       "                   worldwide_gross ROI_Percentage       Director_name  \n",
       "                              mean           mean                      \n",
       "primary_name                                                           \n",
       "Antoine Fuqua         1.625835e+08     267.896770       Antoine Fuqua  \n",
       "Brad Peyton           2.649717e+08     298.920731         Brad Peyton  \n",
       "David Gordon Green    1.102911e+08    6189.807124  David Gordon Green  \n",
       "Francis Lawrence      5.086383e+08     440.615678    Francis Lawrence  \n",
       "Ridley Scott          3.263373e+08     300.638682        Ridley Scott  \n",
       "Steven Soderbergh     7.828790e+07     691.433308   Steven Soderbergh  \n",
       "Steven Spielberg      2.750485e+08     318.112054    Steven Spielberg  \n",
       "Tim Burton            3.434334e+08     271.149755          Tim Burton  \n",
       "Tim Story             7.508479e+07     674.413334           Tim Story  \n",
       "Zack Snyder           4.841840e+08     224.386352         Zack Snyder  "
      ]
     },
     "execution_count": 65,
     "metadata": {},
     "output_type": "execute_result"
    }
   ],
   "source": [
    "Director"
   ]
  },
  {
   "cell_type": "code",
   "execution_count": 66,
   "metadata": {},
   "outputs": [
    {
     "data": {
      "text/plain": [
       "Text(0.5, 0, 'Director Name')"
      ]
     },
     "execution_count": 66,
     "metadata": {},
     "output_type": "execute_result"
    },
    {
     "data": {
      "image/png": "[encoded data removed]",
      "text/plain": [
       "<Figure size 432x288 with 1 Axes>"
      ]
     },
     "metadata": {
      "needs_background": "light"
     },
     "output_type": "display_data"
    }
   ],
   "source": [
    "ax = Director.plot.bar(x = 'Director_name', y = 'average_rating', title = 'Mean Average Rating of Directors')\n",
    "ax.set_ylabel('Average Rating')\n",
    "ax.set_xlabel('Director Name')"
   ]
  },
  {
   "cell_type": "code",
   "execution_count": 67,
   "metadata": {},
   "outputs": [
    {
     "data": {
      "text/plain": [
       "Text(0.5, 0, 'Director Name')"
      ]
     },
     "execution_count": 67,
     "metadata": {},
     "output_type": "execute_result"
    },
    {
     "data": {
      "image/png": "[encoded data removed]",
      "text/plain": [
       "<Figure size 432x288 with 1 Axes>"
      ]
     },
     "metadata": {
      "needs_background": "light"
     },
     "output_type": "display_data"
    }
   ],
   "source": [
    "ax = Director.plot.bar(x = 'Director_name', y = 'ROI_Percentage', title = 'Mean ROI Percentage of Directors')\n",
    "ax.set_ylabel('ROI Percentage')\n",
    "ax.set_xlabel('Director Name')"
   ]
  },
  {
   "cell_type": "code",
   "execution_count": 68,
   "metadata": {},
   "outputs": [],
   "source": [
    "Actor = actor1.groupby(['primary_name']).agg(['mean'])"
   ]
  },
  {
   "cell_type": "code",
   "execution_count": 69,
   "metadata": {},
   "outputs": [],
   "source": [
    "Actor['Actor_name'] = actor_list"
   ]
  },
  {
   "cell_type": "code",
   "execution_count": 70,
   "metadata": {},
   "outputs": [
    {
     "data": {
      "text/html": [
       "<div>\n",
       "<style scoped>\n",
       "    .dataframe tbody tr th:only-of-type {\n",
       "        vertical-align: middle;\n",
       "    }\n",
       "\n",
       "    .dataframe tbody tr th {\n",
       "        vertical-align: top;\n",
       "    }\n",
       "\n",
       "    .dataframe thead tr th {\n",
       "        text-align: left;\n",
       "    }\n",
       "\n",
       "    .dataframe thead tr:last-of-type th {\n",
       "        text-align: right;\n",
       "    }\n",
       "</style>\n",
       "<table border=\"1\" class=\"dataframe\">\n",
       "  <thead>\n",
       "    <tr>\n",
       "      <th></th>\n",
       "      <th>average_rating</th>\n",
       "      <th>production_budget</th>\n",
       "      <th>domestic_gross</th>\n",
       "      <th>worldwide_gross</th>\n",
       "      <th>ROI_Percentage</th>\n",
       "      <th>Actor_name</th>\n",
       "    </tr>\n",
       "    <tr>\n",
       "      <th></th>\n",
       "      <th>mean</th>\n",
       "      <th>mean</th>\n",
       "      <th>mean</th>\n",
       "      <th>mean</th>\n",
       "      <th>mean</th>\n",
       "      <th></th>\n",
       "    </tr>\n",
       "    <tr>\n",
       "      <th>primary_name</th>\n",
       "      <th></th>\n",
       "      <th></th>\n",
       "      <th></th>\n",
       "      <th></th>\n",
       "      <th></th>\n",
       "      <th></th>\n",
       "    </tr>\n",
       "  </thead>\n",
       "  <tbody>\n",
       "    <tr>\n",
       "      <th>Channing Tatum</th>\n",
       "      <td>6.506667</td>\n",
       "      <td>6.370000e+07</td>\n",
       "      <td>8.474052e+07</td>\n",
       "      <td>1.867546e+08</td>\n",
       "      <td>503.684415</td>\n",
       "      <td>Channing Tatum</td>\n",
       "    </tr>\n",
       "    <tr>\n",
       "      <th>Dwayne Johnson</th>\n",
       "      <td>6.264706</td>\n",
       "      <td>9.305882e+07</td>\n",
       "      <td>1.278503e+08</td>\n",
       "      <td>3.837691e+08</td>\n",
       "      <td>387.767712</td>\n",
       "      <td>Dwayne Johnson</td>\n",
       "    </tr>\n",
       "    <tr>\n",
       "      <th>Joel Edgerton</th>\n",
       "      <td>6.900000</td>\n",
       "      <td>4.872500e+07</td>\n",
       "      <td>4.766231e+07</td>\n",
       "      <td>1.020652e+08</td>\n",
       "      <td>325.275554</td>\n",
       "      <td>Joel Edgerton</td>\n",
       "    </tr>\n",
       "    <tr>\n",
       "      <th>Jonah Hill</th>\n",
       "      <td>6.790909</td>\n",
       "      <td>5.163636e+07</td>\n",
       "      <td>8.593745e+07</td>\n",
       "      <td>1.629256e+08</td>\n",
       "      <td>324.678713</td>\n",
       "      <td>Jonah Hill</td>\n",
       "    </tr>\n",
       "    <tr>\n",
       "      <th>Kevin Hart</th>\n",
       "      <td>6.306667</td>\n",
       "      <td>3.923333e+07</td>\n",
       "      <td>1.222729e+08</td>\n",
       "      <td>2.170332e+08</td>\n",
       "      <td>481.261438</td>\n",
       "      <td>Kevin Hart</td>\n",
       "    </tr>\n",
       "    <tr>\n",
       "      <th>Liam Neeson</th>\n",
       "      <td>6.350000</td>\n",
       "      <td>6.662500e+07</td>\n",
       "      <td>6.636388e+07</td>\n",
       "      <td>1.851415e+08</td>\n",
       "      <td>323.601148</td>\n",
       "      <td>Liam Neeson</td>\n",
       "    </tr>\n",
       "    <tr>\n",
       "      <th>Mark Wahlberg</th>\n",
       "      <td>6.593333</td>\n",
       "      <td>6.740000e+07</td>\n",
       "      <td>9.822993e+07</td>\n",
       "      <td>2.448132e+08</td>\n",
       "      <td>392.113445</td>\n",
       "      <td>Mark Wahlberg</td>\n",
       "    </tr>\n",
       "    <tr>\n",
       "      <th>Owen Wilson</th>\n",
       "      <td>6.183333</td>\n",
       "      <td>7.816667e+07</td>\n",
       "      <td>8.592025e+07</td>\n",
       "      <td>2.128778e+08</td>\n",
       "      <td>399.243928</td>\n",
       "      <td>Owen Wilson</td>\n",
       "    </tr>\n",
       "    <tr>\n",
       "      <th>Steve Carell</th>\n",
       "      <td>6.791667</td>\n",
       "      <td>4.625000e+07</td>\n",
       "      <td>1.217052e+08</td>\n",
       "      <td>2.868160e+08</td>\n",
       "      <td>520.967949</td>\n",
       "      <td>Steve Carell</td>\n",
       "    </tr>\n",
       "    <tr>\n",
       "      <th>Tom Hardy</th>\n",
       "      <td>7.363636</td>\n",
       "      <td>8.887273e+07</td>\n",
       "      <td>1.199335e+08</td>\n",
       "      <td>3.361210e+08</td>\n",
       "      <td>306.261668</td>\n",
       "      <td>Tom Hardy</td>\n",
       "    </tr>\n",
       "  </tbody>\n",
       "</table>\n",
       "</div>"
      ],
      "text/plain": [
       "               average_rating production_budget domestic_gross  \\\n",
       "                         mean              mean           mean   \n",
       "primary_name                                                     \n",
       "Channing Tatum       6.506667      6.370000e+07   8.474052e+07   \n",
       "Dwayne Johnson       6.264706      9.305882e+07   1.278503e+08   \n",
       "Joel Edgerton        6.900000      4.872500e+07   4.766231e+07   \n",
       "Jonah Hill           6.790909      5.163636e+07   8.593745e+07   \n",
       "Kevin Hart           6.306667      3.923333e+07   1.222729e+08   \n",
       "Liam Neeson          6.350000      6.662500e+07   6.636388e+07   \n",
       "Mark Wahlberg        6.593333      6.740000e+07   9.822993e+07   \n",
       "Owen Wilson          6.183333      7.816667e+07   8.592025e+07   \n",
       "Steve Carell         6.791667      4.625000e+07   1.217052e+08   \n",
       "Tom Hardy            7.363636      8.887273e+07   1.199335e+08   \n",
       "\n",
       "               worldwide_gross ROI_Percentage      Actor_name  \n",
       "                          mean           mean                  \n",
       "primary_name                                                   \n",
       "Channing Tatum    1.867546e+08     503.684415  Channing Tatum  \n",
       "Dwayne Johnson    3.837691e+08     387.767712  Dwayne Johnson  \n",
       "Joel Edgerton     1.020652e+08     325.275554   Joel Edgerton  \n",
       "Jonah Hill        1.629256e+08     324.678713      Jonah Hill  \n",
       "Kevin Hart        2.170332e+08     481.261438      Kevin Hart  \n",
       "Liam Neeson       1.851415e+08     323.601148     Liam Neeson  \n",
       "Mark Wahlberg     2.448132e+08     392.113445   Mark Wahlberg  \n",
       "Owen Wilson       2.128778e+08     399.243928     Owen Wilson  \n",
       "Steve Carell      2.868160e+08     520.967949    Steve Carell  \n",
       "Tom Hardy         3.361210e+08     306.261668       Tom Hardy  "
      ]
     },
     "execution_count": 70,
     "metadata": {},
     "output_type": "execute_result"
    }
   ],
   "source": [
    "Actor"
   ]
  },
  {
   "cell_type": "code",
   "execution_count": 71,
   "metadata": {},
   "outputs": [
    {
     "data": {
      "text/plain": [
       "Text(0.5, 0, 'Actor Name')"
      ]
     },
     "execution_count": 71,
     "metadata": {},
     "output_type": "execute_result"
    },
    {
     "data": {
      "image/png": "[encoded data removed]",
      "text/plain": [
       "<Figure size 432x288 with 1 Axes>"
      ]
     },
     "metadata": {
      "needs_background": "light"
     },
     "output_type": "display_data"
    }
   ],
   "source": [
    "ax = Actor.plot.bar(x = 'Actor_name', y = 'average_rating', title = 'Mean Average Rating of Actors')\n",
    "ax.set_ylabel('Average Rating')\n",
    "ax.set_xlabel('Actor Name')"
   ]
  },
  {
   "cell_type": "code",
   "execution_count": 72,
   "metadata": {},
   "outputs": [
    {
     "data": {
      "text/plain": [
       "Text(0.5, 0, 'Actor Name')"
      ]
     },
     "execution_count": 72,
     "metadata": {},
     "output_type": "execute_result"
    },
    {
     "data": {
      "image/png": "[encoded data removed]",
      "text/plain": [
       "<Figure size 432x288 with 1 Axes>"
      ]
     },
     "metadata": {
      "needs_background": "light"
     },
     "output_type": "display_data"
    }
   ],
   "source": [
    "ax = Actor.plot.bar(x = 'Actor_name', y = 'ROI_Percentage', title = 'Mean ROI Percentage of Actors')\n",
    "ax.set_ylabel('ROI_Percentage')\n",
    "ax.set_xlabel('Actor Name')"
   ]
  },
  {
   "cell_type": "code",
   "execution_count": 73,
   "metadata": {},
   "outputs": [],
   "source": [
    "Actress = actress1.groupby(['primary_name']).agg(['mean'])"
   ]
  },
  {
   "cell_type": "code",
   "execution_count": 74,
   "metadata": {},
   "outputs": [],
   "source": [
    "Actress['Actress_name'] = actress_list"
   ]
  },
  {
   "cell_type": "code",
   "execution_count": 75,
   "metadata": {},
   "outputs": [
    {
     "data": {
      "text/html": [
       "<div>\n",
       "<style scoped>\n",
       "    .dataframe tbody tr th:only-of-type {\n",
       "        vertical-align: middle;\n",
       "    }\n",
       "\n",
       "    .dataframe tbody tr th {\n",
       "        vertical-align: top;\n",
       "    }\n",
       "\n",
       "    .dataframe thead tr th {\n",
       "        text-align: left;\n",
       "    }\n",
       "\n",
       "    .dataframe thead tr:last-of-type th {\n",
       "        text-align: right;\n",
       "    }\n",
       "</style>\n",
       "<table border=\"1\" class=\"dataframe\">\n",
       "  <thead>\n",
       "    <tr>\n",
       "      <th></th>\n",
       "      <th>average_rating</th>\n",
       "      <th>production_budget</th>\n",
       "      <th>domestic_gross</th>\n",
       "      <th>worldwide_gross</th>\n",
       "      <th>ROI_Percentage</th>\n",
       "      <th>Actress_name</th>\n",
       "    </tr>\n",
       "    <tr>\n",
       "      <th></th>\n",
       "      <th>mean</th>\n",
       "      <th>mean</th>\n",
       "      <th>mean</th>\n",
       "      <th>mean</th>\n",
       "      <th>mean</th>\n",
       "      <th></th>\n",
       "    </tr>\n",
       "    <tr>\n",
       "      <th>primary_name</th>\n",
       "      <th></th>\n",
       "      <th></th>\n",
       "      <th></th>\n",
       "      <th></th>\n",
       "      <th></th>\n",
       "      <th></th>\n",
       "    </tr>\n",
       "  </thead>\n",
       "  <tbody>\n",
       "    <tr>\n",
       "      <th>Amy Adams</th>\n",
       "      <td>7.241667</td>\n",
       "      <td>6.583333e+07</td>\n",
       "      <td>9.958572e+07</td>\n",
       "      <td>2.123975e+08</td>\n",
       "      <td>358.754767</td>\n",
       "      <td>Amy Adams</td>\n",
       "    </tr>\n",
       "    <tr>\n",
       "      <th>Anna Kendrick</th>\n",
       "      <td>6.763636</td>\n",
       "      <td>4.074545e+07</td>\n",
       "      <td>8.670410e+07</td>\n",
       "      <td>1.527457e+08</td>\n",
       "      <td>447.549227</td>\n",
       "      <td>Anna Kendrick</td>\n",
       "    </tr>\n",
       "    <tr>\n",
       "      <th>Cate Blanchett</th>\n",
       "      <td>7.136364</td>\n",
       "      <td>1.037909e+08</td>\n",
       "      <td>1.330926e+08</td>\n",
       "      <td>4.015279e+08</td>\n",
       "      <td>1169.100043</td>\n",
       "      <td>Cate Blanchett</td>\n",
       "    </tr>\n",
       "    <tr>\n",
       "      <th>Chloë Grace Moretz</th>\n",
       "      <td>6.550000</td>\n",
       "      <td>4.268000e+07</td>\n",
       "      <td>4.662708e+07</td>\n",
       "      <td>9.686207e+07</td>\n",
       "      <td>419.433081</td>\n",
       "      <td>Chloë Grace Moretz</td>\n",
       "    </tr>\n",
       "    <tr>\n",
       "      <th>Emily Blunt</th>\n",
       "      <td>6.658333</td>\n",
       "      <td>6.146000e+07</td>\n",
       "      <td>7.964813e+07</td>\n",
       "      <td>1.833365e+08</td>\n",
       "      <td>620.330002</td>\n",
       "      <td>Emily Blunt</td>\n",
       "    </tr>\n",
       "    <tr>\n",
       "      <th>Emma Stone</th>\n",
       "      <td>6.680000</td>\n",
       "      <td>7.430000e+07</td>\n",
       "      <td>1.154115e+08</td>\n",
       "      <td>3.074902e+08</td>\n",
       "      <td>635.260075</td>\n",
       "      <td>Emma Stone</td>\n",
       "    </tr>\n",
       "    <tr>\n",
       "      <th>Jennifer Lawrence</th>\n",
       "      <td>6.884615</td>\n",
       "      <td>7.555000e+07</td>\n",
       "      <td>1.641593e+08</td>\n",
       "      <td>3.544978e+08</td>\n",
       "      <td>630.676932</td>\n",
       "      <td>Jennifer Lawrence</td>\n",
       "    </tr>\n",
       "    <tr>\n",
       "      <th>Kristen Wiig</th>\n",
       "      <td>6.610000</td>\n",
       "      <td>5.785000e+07</td>\n",
       "      <td>1.563567e+08</td>\n",
       "      <td>3.816352e+08</td>\n",
       "      <td>694.787581</td>\n",
       "      <td>Kristen Wiig</td>\n",
       "    </tr>\n",
       "    <tr>\n",
       "      <th>Rachel McAdams</th>\n",
       "      <td>7.310000</td>\n",
       "      <td>5.040000e+07</td>\n",
       "      <td>8.315513e+07</td>\n",
       "      <td>2.060985e+08</td>\n",
       "      <td>426.460134</td>\n",
       "      <td>Rachel McAdams</td>\n",
       "    </tr>\n",
       "    <tr>\n",
       "      <th>Scarlett Johansson</th>\n",
       "      <td>7.050000</td>\n",
       "      <td>9.685000e+07</td>\n",
       "      <td>1.876354e+08</td>\n",
       "      <td>4.887286e+08</td>\n",
       "      <td>512.468321</td>\n",
       "      <td>Scarlett Johansson</td>\n",
       "    </tr>\n",
       "  </tbody>\n",
       "</table>\n",
       "</div>"
      ],
      "text/plain": [
       "                   average_rating production_budget domestic_gross  \\\n",
       "                             mean              mean           mean   \n",
       "primary_name                                                         \n",
       "Amy Adams                7.241667      6.583333e+07   9.958572e+07   \n",
       "Anna Kendrick            6.763636      4.074545e+07   8.670410e+07   \n",
       "Cate Blanchett           7.136364      1.037909e+08   1.330926e+08   \n",
       "Chloë Grace Moretz       6.550000      4.268000e+07   4.662708e+07   \n",
       "Emily Blunt              6.658333      6.146000e+07   7.964813e+07   \n",
       "Emma Stone               6.680000      7.430000e+07   1.154115e+08   \n",
       "Jennifer Lawrence        6.884615      7.555000e+07   1.641593e+08   \n",
       "Kristen Wiig             6.610000      5.785000e+07   1.563567e+08   \n",
       "Rachel McAdams           7.310000      5.040000e+07   8.315513e+07   \n",
       "Scarlett Johansson       7.050000      9.685000e+07   1.876354e+08   \n",
       "\n",
       "                   worldwide_gross ROI_Percentage        Actress_name  \n",
       "                              mean           mean                      \n",
       "primary_name                                                           \n",
       "Amy Adams             2.123975e+08     358.754767           Amy Adams  \n",
       "Anna Kendrick         1.527457e+08     447.549227       Anna Kendrick  \n",
       "Cate Blanchett        4.015279e+08    1169.100043      Cate Blanchett  \n",
       "Chloë Grace Moretz    9.686207e+07     419.433081  Chloë Grace Moretz  \n",
       "Emily Blunt           1.833365e+08     620.330002         Emily Blunt  \n",
       "Emma Stone            3.074902e+08     635.260075          Emma Stone  \n",
       "Jennifer Lawrence     3.544978e+08     630.676932   Jennifer Lawrence  \n",
       "Kristen Wiig          3.816352e+08     694.787581        Kristen Wiig  \n",
       "Rachel McAdams        2.060985e+08     426.460134      Rachel McAdams  \n",
       "Scarlett Johansson    4.887286e+08     512.468321  Scarlett Johansson  "
      ]
     },
     "execution_count": 75,
     "metadata": {},
     "output_type": "execute_result"
    }
   ],
   "source": [
    "Actress"
   ]
  },
  {
   "cell_type": "code",
   "execution_count": 76,
   "metadata": {},
   "outputs": [
    {
     "data": {
      "text/plain": [
       "Text(0.5, 0, 'Actress Name')"
      ]
     },
     "execution_count": 76,
     "metadata": {},
     "output_type": "execute_result"
    },
    {
     "data": {
      "image/png": "[encoded data removed]",
      "text/plain": [
       "<Figure size 432x288 with 1 Axes>"
      ]
     },
     "metadata": {
      "needs_background": "light"
     },
     "output_type": "display_data"
    }
   ],
   "source": [
    "ax = Actress.plot.bar(x = 'Actress_name', y = 'average_rating', title = 'Mean Average Rating of Actresses')\n",
    "ax.set_ylabel('Average Rating')\n",
    "ax.set_xlabel('Actress Name')"
   ]
  },
  {
   "cell_type": "code",
   "execution_count": 77,
   "metadata": {},
   "outputs": [
    {
     "data": {
      "text/plain": [
       "Text(0.5, 0, 'Actress Name')"
      ]
     },
     "execution_count": 77,
     "metadata": {},
     "output_type": "execute_result"
    },
    {
     "data": {
      "image/png": "[encoded data removed]",
      "text/plain": [
       "<Figure size 432x288 with 1 Axes>"
      ]
     },
     "metadata": {
      "needs_background": "light"
     },
     "output_type": "display_data"
    }
   ],
   "source": [
    "ax = Actress.plot.bar(x = 'Actress_name', y = 'ROI_Percentage', title = 'Mean ROI Percentage of Actresses')\n",
    "ax.set_ylabel('ROI Percentage')\n",
    "ax.set_xlabel('Actress Name')"
   ]
  },
  {
   "cell_type": "code",
   "execution_count": 78,
   "metadata": {},
   "outputs": [],
   "source": [
    "Producer = producer1.groupby(['primary_name']).agg(['mean'])"
   ]
  },
  {
   "cell_type": "code",
   "execution_count": 79,
   "metadata": {},
   "outputs": [],
   "source": [
    "Producer['Producer_name'] = producer_list"
   ]
  },
  {
   "cell_type": "code",
   "execution_count": 80,
   "metadata": {},
   "outputs": [
    {
     "data": {
      "text/html": [
       "<div>\n",
       "<style scoped>\n",
       "    .dataframe tbody tr th:only-of-type {\n",
       "        vertical-align: middle;\n",
       "    }\n",
       "\n",
       "    .dataframe tbody tr th {\n",
       "        vertical-align: top;\n",
       "    }\n",
       "\n",
       "    .dataframe thead tr th {\n",
       "        text-align: left;\n",
       "    }\n",
       "\n",
       "    .dataframe thead tr:last-of-type th {\n",
       "        text-align: right;\n",
       "    }\n",
       "</style>\n",
       "<table border=\"1\" class=\"dataframe\">\n",
       "  <thead>\n",
       "    <tr>\n",
       "      <th></th>\n",
       "      <th>average_rating</th>\n",
       "      <th>production_budget</th>\n",
       "      <th>domestic_gross</th>\n",
       "      <th>worldwide_gross</th>\n",
       "      <th>ROI_Percentage</th>\n",
       "      <th>Producer_name</th>\n",
       "    </tr>\n",
       "    <tr>\n",
       "      <th></th>\n",
       "      <th>mean</th>\n",
       "      <th>mean</th>\n",
       "      <th>mean</th>\n",
       "      <th>mean</th>\n",
       "      <th>mean</th>\n",
       "      <th></th>\n",
       "    </tr>\n",
       "    <tr>\n",
       "      <th>primary_name</th>\n",
       "      <th></th>\n",
       "      <th></th>\n",
       "      <th></th>\n",
       "      <th></th>\n",
       "      <th></th>\n",
       "      <th></th>\n",
       "    </tr>\n",
       "  </thead>\n",
       "  <tbody>\n",
       "    <tr>\n",
       "      <th>Eric Fellner</th>\n",
       "      <td>6.987500</td>\n",
       "      <td>2.862500e+07</td>\n",
       "      <td>3.337742e+07</td>\n",
       "      <td>9.824282e+07</td>\n",
       "      <td>386.950280</td>\n",
       "      <td>Eric Fellner</td>\n",
       "    </tr>\n",
       "    <tr>\n",
       "      <th>Jason Blum</th>\n",
       "      <td>6.048649</td>\n",
       "      <td>6.103135e+06</td>\n",
       "      <td>5.214397e+07</td>\n",
       "      <td>9.667490e+07</td>\n",
       "      <td>3103.735405</td>\n",
       "      <td>Jason Blum</td>\n",
       "    </tr>\n",
       "    <tr>\n",
       "      <th>Lorenzo di Bonaventura</th>\n",
       "      <td>6.292308</td>\n",
       "      <td>8.280769e+07</td>\n",
       "      <td>9.811190e+07</td>\n",
       "      <td>3.076001e+08</td>\n",
       "      <td>317.405505</td>\n",
       "      <td>Lorenzo di Bonaventura</td>\n",
       "    </tr>\n",
       "    <tr>\n",
       "      <th>Marc Platt</th>\n",
       "      <td>6.660000</td>\n",
       "      <td>4.072000e+07</td>\n",
       "      <td>7.367988e+07</td>\n",
       "      <td>1.546694e+08</td>\n",
       "      <td>470.006541</td>\n",
       "      <td>Marc Platt</td>\n",
       "    </tr>\n",
       "    <tr>\n",
       "      <th>Michael Bay</th>\n",
       "      <td>5.933333</td>\n",
       "      <td>2.931667e+07</td>\n",
       "      <td>7.323056e+07</td>\n",
       "      <td>1.553547e+08</td>\n",
       "      <td>1177.159259</td>\n",
       "      <td>Michael Bay</td>\n",
       "    </tr>\n",
       "    <tr>\n",
       "      <th>Michael De Luca</th>\n",
       "      <td>6.040000</td>\n",
       "      <td>4.800000e+07</td>\n",
       "      <td>7.946833e+07</td>\n",
       "      <td>2.264284e+08</td>\n",
       "      <td>472.716971</td>\n",
       "      <td>Michael De Luca</td>\n",
       "    </tr>\n",
       "    <tr>\n",
       "      <th>Peter Chernin</th>\n",
       "      <td>6.807143</td>\n",
       "      <td>7.297143e+07</td>\n",
       "      <td>1.043359e+08</td>\n",
       "      <td>2.535747e+08</td>\n",
       "      <td>373.960241</td>\n",
       "      <td>Peter Chernin</td>\n",
       "    </tr>\n",
       "    <tr>\n",
       "      <th>Peter Safran</th>\n",
       "      <td>5.966667</td>\n",
       "      <td>2.216529e+07</td>\n",
       "      <td>6.549297e+07</td>\n",
       "      <td>1.626798e+08</td>\n",
       "      <td>1131.039274</td>\n",
       "      <td>Peter Safran</td>\n",
       "    </tr>\n",
       "    <tr>\n",
       "      <th>Scott Rudin</th>\n",
       "      <td>7.283333</td>\n",
       "      <td>2.575000e+07</td>\n",
       "      <td>5.069945e+07</td>\n",
       "      <td>9.579798e+07</td>\n",
       "      <td>421.735169</td>\n",
       "      <td>Scott Rudin</td>\n",
       "    </tr>\n",
       "    <tr>\n",
       "      <th>Tim Bevan</th>\n",
       "      <td>6.770588</td>\n",
       "      <td>2.941176e+07</td>\n",
       "      <td>3.071580e+07</td>\n",
       "      <td>9.891299e+07</td>\n",
       "      <td>377.769006</td>\n",
       "      <td>Tim Bevan</td>\n",
       "    </tr>\n",
       "  </tbody>\n",
       "</table>\n",
       "</div>"
      ],
      "text/plain": [
       "                       average_rating production_budget domestic_gross  \\\n",
       "                                 mean              mean           mean   \n",
       "primary_name                                                             \n",
       "Eric Fellner                 6.987500      2.862500e+07   3.337742e+07   \n",
       "Jason Blum                   6.048649      6.103135e+06   5.214397e+07   \n",
       "Lorenzo di Bonaventura       6.292308      8.280769e+07   9.811190e+07   \n",
       "Marc Platt                   6.660000      4.072000e+07   7.367988e+07   \n",
       "Michael Bay                  5.933333      2.931667e+07   7.323056e+07   \n",
       "Michael De Luca              6.040000      4.800000e+07   7.946833e+07   \n",
       "Peter Chernin                6.807143      7.297143e+07   1.043359e+08   \n",
       "Peter Safran                 5.966667      2.216529e+07   6.549297e+07   \n",
       "Scott Rudin                  7.283333      2.575000e+07   5.069945e+07   \n",
       "Tim Bevan                    6.770588      2.941176e+07   3.071580e+07   \n",
       "\n",
       "                       worldwide_gross ROI_Percentage           Producer_name  \n",
       "                                  mean           mean                          \n",
       "primary_name                                                                   \n",
       "Eric Fellner              9.824282e+07     386.950280            Eric Fellner  \n",
       "Jason Blum                9.667490e+07    3103.735405              Jason Blum  \n",
       "Lorenzo di Bonaventura    3.076001e+08     317.405505  Lorenzo di Bonaventura  \n",
       "Marc Platt                1.546694e+08     470.006541              Marc Platt  \n",
       "Michael Bay               1.553547e+08    1177.159259             Michael Bay  \n",
       "Michael De Luca           2.264284e+08     472.716971         Michael De Luca  \n",
       "Peter Chernin             2.535747e+08     373.960241           Peter Chernin  \n",
       "Peter Safran              1.626798e+08    1131.039274            Peter Safran  \n",
       "Scott Rudin               9.579798e+07     421.735169             Scott Rudin  \n",
       "Tim Bevan                 9.891299e+07     377.769006               Tim Bevan  "
      ]
     },
     "execution_count": 80,
     "metadata": {},
     "output_type": "execute_result"
    }
   ],
   "source": [
    "Producer"
   ]
  },
  {
   "cell_type": "code",
   "execution_count": 81,
   "metadata": {},
   "outputs": [
    {
     "data": {
      "text/plain": [
       "Text(0.5, 0, 'Producer Name')"
      ]
     },
     "execution_count": 81,
     "metadata": {},
     "output_type": "execute_result"
    },
    {
     "data": {
      "image/png": "[encoded data removed]",
      "text/plain": [
       "<Figure size 432x288 with 1 Axes>"
      ]
     },
     "metadata": {
      "needs_background": "light"
     },
     "output_type": "display_data"
    }
   ],
   "source": [
    "ax = Producer.plot.bar(x = 'Producer_name', y = 'average_rating', title = 'Mean Average Rating of Producer')\n",
    "ax.set_ylabel('ROI Percentage')\n",
    "ax.set_xlabel('Producer Name')"
   ]
  },
  {
   "cell_type": "code",
   "execution_count": 82,
   "metadata": {},
   "outputs": [
    {
     "data": {
      "text/plain": [
       "Text(0.5, 0, 'Producer Name')"
      ]
     },
     "execution_count": 82,
     "metadata": {},
     "output_type": "execute_result"
    },
    {
     "data": {
      "image/png": "[encoded data removed]",
      "text/plain": [
       "<Figure size 432x288 with 1 Axes>"
      ]
     },
     "metadata": {
      "needs_background": "light"
     },
     "output_type": "display_data"
    }
   ],
   "source": [
    "ax = Producer.plot.bar(x = 'Producer_name', y = 'ROI_Percentage', title = 'Mean ROI Percentage of Producer')\n",
    "ax.set_ylabel('ROI Percentage')\n",
    "ax.set_xlabel('Producer Name')"
   ]
  },
  {
   "cell_type": "markdown",
   "metadata": {},
   "source": [
    "### Results/Conclusions\n",
    "\n",
    "-1) David Gordon Green is the highest ROI director, His success in movies vary from dark comedies movies like Pineapple Express and shows like \"Eastbound and Down' to slasher films such as Halloween.\n",
    "he has great variety under his belt. \n",
    "\n",
    "-2) Top 3 Actors are Channing Tatum, Kevin Hart, and Steve Carell. Kevin Hart and Steve Carell are largely known for their comedies. Channing Tatums is a bit of wildcard he has played in action movies such as White House Down, and GI Joe, he has also played in comedies suchw as 21/22 Jump Street Films and Dramas such as Dear John and Coach Carter.\n",
    "\n",
    "-3) Jason Blum, he is the best Producer for thrillers and horrors. He is well known for his work in movies such as paranormal activity, Halloween, The Purge. He worked with David Gordon Green for the Halloween movies.\n",
    "\n",
    "-4) Cate Blanchett, is another jack of all trades for an actress. She has played Dramas such as the Curious Case of Benjamin Button, to Comedies like Don't Look Up, and Fantasy like The Hobbit/Lord of the Rings."
   ]
  },
  {
   "cell_type": "markdown",
   "metadata": {},
   "source": [
    "### Next Steps.\n",
    " -1) Provide Genre Specific data. For Example, best Action Director, Action Producer, Action Actors and Actresses.\n",
    "\n",
    "-2) Does Streaming vs Box Office affect movie success.. we live in a time where movies are now released via streaming platforms. Compare success of movies released via streaming platforms independently from box office.\n",
    "\n",
    "-3) Include different measure of success... i.e., popularity. How often is this movie viewed? or Box Office success on a week-by-week basis is another measure of popularity.\n"
   ]
  },
  {
   "cell_type": "code",
   "execution_count": null,
   "metadata": {},
   "outputs": [],
   "source": []
  },
  {
   "cell_type": "code",
   "execution_count": null,
   "metadata": {},
   "outputs": [],
   "source": []
  }
 ],
 "metadata": {
  "kernelspec": {
   "display_name": "Python 3",
   "language": "python",
   "name": "python3"
  },
  "language_info": {
   "codemirror_mode": {
    "name": "ipython",
    "version": 3
   },
   "file_extension": ".py",
   "mimetype": "text/x-python",
   "name": "python",
   "nbconvert_exporter": "python",
   "pygments_lexer": "ipython3",
   "version": "3.8.8"
  }
 },
 "nbformat": 4,
 "nbformat_minor": 2
}
